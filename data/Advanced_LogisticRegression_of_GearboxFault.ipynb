{
 "cells": [
  {
   "cell_type": "code",
   "execution_count": 146,
   "metadata": {
    "_cell_guid": "b1076dfc-b9ad-4769-8c92-a6c4dae69d19",
    "_uuid": "8f2839f25d086af736a60e9eeb907d3b93b6e0e5",
    "execution": {
     "iopub.execute_input": "2021-02-28T09:47:32.987774Z",
     "iopub.status.busy": "2021-02-28T09:47:32.987038Z",
     "iopub.status.idle": "2021-02-28T09:47:33.913555Z",
     "shell.execute_reply": "2021-02-28T09:47:33.912888Z"
    },
    "papermill": {
     "duration": 0.953611,
     "end_time": "2021-02-28T09:47:33.913802",
     "exception": false,
     "start_time": "2021-02-28T09:47:32.960191",
     "status": "completed"
    },
    "tags": []
   },
   "outputs": [],
   "source": [
    "import numpy as np # linear algebra\n",
    "import pandas as pd # data processing, CSV file I/O (e.g. pd.read_csv)\n",
    "\n",
    "import matplotlib.pyplot as plt\n",
    "import matplotlib.gridspec as gridspec\n",
    "import seaborn as sns\n",
    "from pylab import rcParams\n",
    "\n",
    "#path = '/kaggle'\n",
    "#path = '/tmp/working/' # Standard kaggle container data path\n",
    "path = '/tmp/working/tmp/kaggle-gearbox-analysis/data' # \"./\"\n",
    "input_path = path + '/input/gearbox-fault-diagnosis-elaborated-datasets/stdev/'\n",
    "broken_dataset  = \"broken30hz_stdev_100.csv\"\n",
    "healthy_dataset = \"healthy30hz_stdev_100.csv\""
   ]
  },
  {
   "cell_type": "markdown",
   "metadata": {
    "papermill": {
     "duration": 0.019204,
     "end_time": "2021-02-28T09:47:34.169308",
     "exception": false,
     "start_time": "2021-02-28T09:47:34.150104",
     "status": "completed"
    },
    "tags": []
   },
   "source": [
    "## Build healthy/broken dataset"
   ]
  },
  {
   "cell_type": "code",
   "execution_count": 147,
   "metadata": {
    "execution": {
     "iopub.execute_input": "2021-02-28T09:47:34.212904Z",
     "iopub.status.busy": "2021-02-28T09:47:34.212186Z",
     "iopub.status.idle": "2021-02-28T09:47:34.240713Z",
     "shell.execute_reply": "2021-02-28T09:47:34.241237Z"
    },
    "papermill": {
     "duration": 0.052646,
     "end_time": "2021-02-28T09:47:34.241411",
     "exception": false,
     "start_time": "2021-02-28T09:47:34.188765",
     "status": "completed"
    },
    "scrolled": false,
    "tags": []
   },
   "outputs": [
    {
     "data": {
      "text/html": [
       "<div>\n",
       "<style scoped>\n",
       "    .dataframe tbody tr th:only-of-type {\n",
       "        vertical-align: middle;\n",
       "    }\n",
       "\n",
       "    .dataframe tbody tr th {\n",
       "        vertical-align: top;\n",
       "    }\n",
       "\n",
       "    .dataframe thead th {\n",
       "        text-align: right;\n",
       "    }\n",
       "</style>\n",
       "<table border=\"1\" class=\"dataframe\">\n",
       "  <thead>\n",
       "    <tr style=\"text-align: right;\">\n",
       "      <th></th>\n",
       "      <th>a1</th>\n",
       "      <th>a2</th>\n",
       "      <th>a3</th>\n",
       "      <th>a4</th>\n",
       "      <th>load</th>\n",
       "      <th>failure</th>\n",
       "    </tr>\n",
       "  </thead>\n",
       "  <tbody>\n",
       "    <tr>\n",
       "      <th>count</th>\n",
       "      <td>20203.000000</td>\n",
       "      <td>20203.000000</td>\n",
       "      <td>20203.000000</td>\n",
       "      <td>20203.000000</td>\n",
       "      <td>20203.000000</td>\n",
       "      <td>20203.000000</td>\n",
       "    </tr>\n",
       "    <tr>\n",
       "      <th>mean</th>\n",
       "      <td>5.766842</td>\n",
       "      <td>4.266330</td>\n",
       "      <td>3.847555</td>\n",
       "      <td>4.276706</td>\n",
       "      <td>45.644706</td>\n",
       "      <td>0.497401</td>\n",
       "    </tr>\n",
       "    <tr>\n",
       "      <th>std</th>\n",
       "      <td>2.219236</td>\n",
       "      <td>1.162870</td>\n",
       "      <td>1.020591</td>\n",
       "      <td>1.228792</td>\n",
       "      <td>28.660383</td>\n",
       "      <td>0.500006</td>\n",
       "    </tr>\n",
       "    <tr>\n",
       "      <th>min</th>\n",
       "      <td>1.468928</td>\n",
       "      <td>1.272738</td>\n",
       "      <td>0.990336</td>\n",
       "      <td>1.111679</td>\n",
       "      <td>0.000000</td>\n",
       "      <td>0.000000</td>\n",
       "    </tr>\n",
       "    <tr>\n",
       "      <th>25%</th>\n",
       "      <td>4.164285</td>\n",
       "      <td>3.473209</td>\n",
       "      <td>3.118392</td>\n",
       "      <td>3.409206</td>\n",
       "      <td>20.000000</td>\n",
       "      <td>0.000000</td>\n",
       "    </tr>\n",
       "    <tr>\n",
       "      <th>50%</th>\n",
       "      <td>5.337988</td>\n",
       "      <td>4.146414</td>\n",
       "      <td>3.779156</td>\n",
       "      <td>4.211713</td>\n",
       "      <td>50.000000</td>\n",
       "      <td>0.000000</td>\n",
       "    </tr>\n",
       "    <tr>\n",
       "      <th>75%</th>\n",
       "      <td>7.003621</td>\n",
       "      <td>4.903647</td>\n",
       "      <td>4.521386</td>\n",
       "      <td>5.078614</td>\n",
       "      <td>70.000000</td>\n",
       "      <td>1.000000</td>\n",
       "    </tr>\n",
       "    <tr>\n",
       "      <th>max</th>\n",
       "      <td>23.909199</td>\n",
       "      <td>10.984053</td>\n",
       "      <td>8.273939</td>\n",
       "      <td>10.609798</td>\n",
       "      <td>90.000000</td>\n",
       "      <td>1.000000</td>\n",
       "    </tr>\n",
       "  </tbody>\n",
       "</table>\n",
       "</div>"
      ],
      "text/plain": [
       "                 a1            a2            a3            a4          load  \\\n",
       "count  20203.000000  20203.000000  20203.000000  20203.000000  20203.000000   \n",
       "mean       5.766842      4.266330      3.847555      4.276706     45.644706   \n",
       "std        2.219236      1.162870      1.020591      1.228792     28.660383   \n",
       "min        1.468928      1.272738      0.990336      1.111679      0.000000   \n",
       "25%        4.164285      3.473209      3.118392      3.409206     20.000000   \n",
       "50%        5.337988      4.146414      3.779156      4.211713     50.000000   \n",
       "75%        7.003621      4.903647      4.521386      5.078614     70.000000   \n",
       "max       23.909199     10.984053      8.273939     10.609798     90.000000   \n",
       "\n",
       "            failure  \n",
       "count  20203.000000  \n",
       "mean       0.497401  \n",
       "std        0.500006  \n",
       "min        0.000000  \n",
       "25%        0.000000  \n",
       "50%        0.000000  \n",
       "75%        1.000000  \n",
       "max        1.000000  "
      ]
     },
     "execution_count": 147,
     "metadata": {},
     "output_type": "execute_result"
    }
   ],
   "source": [
    "healthyDataset = pd.read_csv(input_path + healthy_dataset)\n",
    "brokenDataset = pd.read_csv(input_path + broken_dataset)\n",
    "\n",
    "dataset = pd.concat([healthyDataset, brokenDataset], axis=0)\n",
    "dataset.describe()"
   ]
  },
  {
   "cell_type": "markdown",
   "metadata": {},
   "source": [
    "# Evaluate classification"
   ]
  },
  {
   "cell_type": "code",
   "execution_count": 148,
   "metadata": {
    "execution": {
     "iopub.execute_input": "2021-02-28T09:47:41.114812Z",
     "iopub.status.busy": "2021-02-28T09:47:41.113841Z",
     "iopub.status.idle": "2021-02-28T09:47:41.117175Z",
     "shell.execute_reply": "2021-02-28T09:47:41.116507Z"
    },
    "papermill": {
     "duration": 0.053929,
     "end_time": "2021-02-28T09:47:41.117318",
     "exception": false,
     "start_time": "2021-02-28T09:47:41.063389",
     "status": "completed"
    },
    "tags": []
   },
   "outputs": [],
   "source": [
    "# Predictor variable (features)\n",
    "columns = ['a1', 'a2', 'a3', 'a4', 'load']\n",
    "X = dataset[columns]\n",
    "# Target variable: Failure (boolean)\n",
    "#y = dataset.iloc[:,-1]\n",
    "y = dataset[['failure']]"
   ]
  },
  {
   "cell_type": "markdown",
   "metadata": {
    "papermill": {
     "duration": 0.036306,
     "end_time": "2021-02-28T09:47:40.653373",
     "exception": false,
     "start_time": "2021-02-28T09:47:40.617067",
     "status": "completed"
    },
    "tags": []
   },
   "source": [
    "# Logistic regression"
   ]
  },
  {
   "cell_type": "code",
   "execution_count": 149,
   "metadata": {
    "execution": {
     "iopub.execute_input": "2021-02-28T09:47:41.588942Z",
     "iopub.status.busy": "2021-02-28T09:47:41.587844Z",
     "iopub.status.idle": "2021-02-28T09:47:41.724288Z",
     "shell.execute_reply": "2021-02-28T09:47:41.725872Z"
    },
    "papermill": {
     "duration": 0.182038,
     "end_time": "2021-02-28T09:47:41.726368",
     "exception": false,
     "start_time": "2021-02-28T09:47:41.544330",
     "status": "completed"
    },
    "scrolled": false,
    "tags": []
   },
   "outputs": [],
   "source": [
    "# Split the dataset: 80% train, 20% test\n",
    "from sklearn.model_selection import train_test_split\n",
    "X_train,X_test,y_train,y_test = train_test_split(X,y,test_size=0.2,random_state=0)\n",
    "\n",
    "# Logistic regression classifier\n",
    "from sklearn.linear_model import LogisticRegression\n",
    "\n",
    "# Setup the model\n",
    "logis = LogisticRegression(max_iter=1000)"
   ]
  },
  {
   "cell_type": "markdown",
   "metadata": {},
   "source": [
    "## Evaluate the model"
   ]
  },
  {
   "cell_type": "code",
   "execution_count": 150,
   "metadata": {},
   "outputs": [
    {
     "name": "stdout",
     "output_type": "stream",
     "text": [
      "Mean Accuracy: 0.914 (0.004)\n"
     ]
    }
   ],
   "source": [
    "from numpy import mean\n",
    "from numpy import std\n",
    "from sklearn.model_selection import cross_val_score\n",
    "from sklearn.model_selection import RepeatedStratifiedKFold\n",
    "# Define the model evaluation procedure\n",
    "cv = RepeatedStratifiedKFold(n_splits=10, n_repeats=3, random_state=1)\n",
    "# evaluate the model and collect the scores\n",
    "n_scores = cross_val_score(logis, X, y, scoring='accuracy', cv=cv, n_jobs=-1)\n",
    "# report the model performance\n",
    "print('Mean Accuracy: %.3f (%.3f)' % (mean(n_scores), std(n_scores)))"
   ]
  },
  {
   "cell_type": "markdown",
   "metadata": {},
   "source": [
    "## Train and prediction"
   ]
  },
  {
   "cell_type": "code",
   "execution_count": 151,
   "metadata": {},
   "outputs": [
    {
     "name": "stdout",
     "output_type": "stream",
     "text": [
      "Prediction for the test data (first 10 rows): [1 0 0 0 1 1 0 1 0 0]\n",
      "Actual gearbox condition  (first 10 rows):    [1 0 0 1 1 1 0 1 0 0]\n"
     ]
    },
    {
     "name": "stderr",
     "output_type": "stream",
     "text": [
      "/opt/conda/lib/python3.7/site-packages/sklearn/utils/validation.py:72: DataConversionWarning: A column-vector y was passed when a 1d array was expected. Please change the shape of y to (n_samples, ), for example using ravel().\n",
      "  return f(**kwargs)\n"
     ]
    }
   ],
   "source": [
    "# Train the model\n",
    "logis_trained = logis.fit(X_train,y_train)\n",
    "\n",
    "y_pred = logis.predict(X_test)\n",
    "print(\"Prediction for the test data (first 10 rows):\", y_pred[:10])\n",
    "print(\"Actual gearbox condition  (first 10 rows):   \", np.array(y_test)[:,0][:10])"
   ]
  },
  {
   "cell_type": "markdown",
   "metadata": {},
   "source": [
    "### Probability vs. predicted class"
   ]
  },
  {
   "cell_type": "code",
   "execution_count": 152,
   "metadata": {},
   "outputs": [],
   "source": [
    "# Print np arrays with 2 decimal places, without scientifc notation\n",
    "np.set_printoptions(suppress=True, precision=2)"
   ]
  },
  {
   "cell_type": "code",
   "execution_count": 153,
   "metadata": {},
   "outputs": [
    {
     "name": "stdout",
     "output_type": "stream",
     "text": [
      "Probability for the test data (first 10 rows): \n",
      " [1.   0.   0.   0.14 1.   0.95 0.   0.99 0.   0.19]\n"
     ]
    }
   ],
   "source": [
    "y_prob = logis.predict_proba(X_test)[:,1]\n",
    "print(\"Probability for the test data (first 10 rows): \\n\", y_prob[:10])"
   ]
  },
  {
   "cell_type": "code",
   "execution_count": 154,
   "metadata": {},
   "outputs": [
    {
     "data": {
      "image/png": "[encoded data removed]",
      "text/plain": [
       "<Figure size 500x500 with 1 Axes>"
      ]
     },
     "metadata": {
      "needs_background": "light"
     },
     "output_type": "display_data"
    }
   ],
   "source": [
    "# Select the first 100 points for clarity in the graph\n",
    "n_points = 100\n",
    "probability = y_prob[:n_points]\n",
    "pred_class = np.array(y_pred)[:n_points]\n",
    "\n",
    "# Plot the graph\n",
    "plt.figure(figsize = (5,5), dpi=100)\n",
    "plt.plot(probability, pred_class, 'o', color='red', label = \"Predicted class as a function of probability\")\n",
    "#plt.plot(y_pred, y_prob, 'o', color='black');\n",
    "\n",
    "plt.xlabel('Probability')\n",
    "plt.ylabel('Predicted class (1: broken / 0: healthy) ')\n",
    "plt.legend()\n",
    "plt.show()"
   ]
  },
  {
   "cell_type": "markdown",
   "metadata": {},
   "source": [
    "### Probability vs. actual class"
   ]
  },
  {
   "cell_type": "code",
   "execution_count": 155,
   "metadata": {},
   "outputs": [
    {
     "data": {
      "image/png": "[encoded data removed]",
      "text/plain": [
       "<Figure size 500x500 with 1 Axes>"
      ]
     },
     "metadata": {
      "needs_background": "light"
     },
     "output_type": "display_data"
    }
   ],
   "source": [
    "# Select the first 100 points for clarity in the graph\n",
    "n_points = 100\n",
    "probability = y_prob[:n_points]\n",
    "actual_class = np.array(y_test)[:n_points,0]\n",
    "\n",
    "# Plot the graph\n",
    "plt.figure(figsize = (5,5), dpi=100)\n",
    "plt.plot(probability, actual_class, 'o', color='blue', label = \"Actual state vs. probability\")\n",
    "\n",
    "plt.xlabel('Probability')\n",
    "plt.ylabel('Actual class (1: broken / 0: healthy) ')\n",
    "\n",
    "plt.legend()\n",
    "\n",
    "plt.show()"
   ]
  },
  {
   "cell_type": "markdown",
   "metadata": {},
   "source": [
    "### Probability vs. sensor data"
   ]
  },
  {
   "cell_type": "code",
   "execution_count": 156,
   "metadata": {},
   "outputs": [
    {
     "data": {
      "image/png": "[encoded data removed]",
      "text/plain": [
       "<Figure size 500x500 with 1 Axes>"
      ]
     },
     "metadata": {
      "needs_background": "light"
     },
     "output_type": "display_data"
    }
   ],
   "source": [
    "plt.figure(figsize = (5,5), dpi=100)\n",
    "\n",
    "a1 = X_test.iloc[:,0]\n",
    "a2 = X_test.iloc[:,1]\n",
    "a3 = X_test.iloc[:,2]\n",
    "a4 = X_test.iloc[:,3]\n",
    "\n",
    "plt.plot(a1, y_prob, 'o', color='red', label = \"Broken probability vs. a1\")\n",
    "#plt.plot(y_pred, y_prob, 'o', color='black');\n",
    "\n",
    "plt.xlabel('stdev(a1)')\n",
    "plt.ylabel('Probability of broken')\n",
    "\n",
    "plt.legend()\n",
    "\n",
    "plt.show()"
   ]
  },
  {
   "cell_type": "markdown",
   "metadata": {
    "papermill": {
     "duration": 0.039637,
     "end_time": "2021-02-28T09:47:42.083369",
     "exception": false,
     "start_time": "2021-02-28T09:47:42.043732",
     "status": "completed"
    },
    "tags": []
   },
   "source": [
    "## Confusion matrix"
   ]
  },
  {
   "cell_type": "code",
   "execution_count": 157,
   "metadata": {
    "execution": {
     "iopub.execute_input": "2021-02-28T09:47:42.171017Z",
     "iopub.status.busy": "2021-02-28T09:47:42.170294Z",
     "iopub.status.idle": "2021-02-28T09:47:42.179472Z",
     "shell.execute_reply": "2021-02-28T09:47:42.178776Z"
    },
    "papermill": {
     "duration": 0.055493,
     "end_time": "2021-02-28T09:47:42.179647",
     "exception": false,
     "start_time": "2021-02-28T09:47:42.124154",
     "status": "completed"
    },
    "tags": []
   },
   "outputs": [
    {
     "data": {
      "text/plain": [
       "array([[1851,  194],\n",
       "       [ 167, 1829]])"
      ]
     },
     "execution_count": 157,
     "metadata": {},
     "output_type": "execute_result"
    }
   ],
   "source": [
    "from sklearn.metrics import confusion_matrix\n",
    "cm = confusion_matrix(y_pred,y_test)\n",
    "cm"
   ]
  },
  {
   "cell_type": "code",
   "execution_count": 158,
   "metadata": {
    "execution": {
     "iopub.execute_input": "2021-02-28T09:47:42.274061Z",
     "iopub.status.busy": "2021-02-28T09:47:42.272893Z",
     "iopub.status.idle": "2021-02-28T09:47:42.278269Z",
     "shell.execute_reply": "2021-02-28T09:47:42.278812Z"
    },
    "papermill": {
     "duration": 0.056053,
     "end_time": "2021-02-28T09:47:42.279006",
     "exception": false,
     "start_time": "2021-02-28T09:47:42.222953",
     "status": "completed"
    },
    "tags": []
   },
   "outputs": [
    {
     "name": "stdout",
     "output_type": "stream",
     "text": [
      "0.9106656768126701 0.915542630862517\n"
     ]
    }
   ],
   "source": [
    "# .score returns the mean accuracy on the given test data and labels\n",
    "# https://scikit-learn.org/stable/modules/generated/sklearn.linear_model.LogisticRegression.html\n",
    "print( logis.score(X_test,y_test) , logis.score(X_train,y_train) )"
   ]
  },
  {
   "cell_type": "markdown",
   "metadata": {
    "papermill": {
     "duration": 0.041048,
     "end_time": "2021-02-28T09:47:42.360970",
     "exception": false,
     "start_time": "2021-02-28T09:47:42.319922",
     "status": "completed"
    },
    "tags": []
   },
   "source": [
    "## Classification report"
   ]
  },
  {
   "cell_type": "code",
   "execution_count": 159,
   "metadata": {
    "execution": {
     "iopub.execute_input": "2021-02-28T09:47:42.447807Z",
     "iopub.status.busy": "2021-02-28T09:47:42.447058Z",
     "iopub.status.idle": "2021-02-28T09:47:42.457310Z",
     "shell.execute_reply": "2021-02-28T09:47:42.457825Z"
    },
    "papermill": {
     "duration": 0.056842,
     "end_time": "2021-02-28T09:47:42.458044",
     "exception": false,
     "start_time": "2021-02-28T09:47:42.401202",
     "status": "completed"
    },
    "tags": []
   },
   "outputs": [
    {
     "name": "stdout",
     "output_type": "stream",
     "text": [
      "              precision    recall  f1-score   support\n",
      "\n",
      "           0       0.91      0.92      0.91      2018\n",
      "           1       0.92      0.90      0.91      2023\n",
      "\n",
      "    accuracy                           0.91      4041\n",
      "   macro avg       0.91      0.91      0.91      4041\n",
      "weighted avg       0.91      0.91      0.91      4041\n",
      "\n"
     ]
    }
   ],
   "source": [
    "from sklearn.metrics import classification_report\n",
    "report = classification_report(y_test,y_pred)\n",
    "print(report)"
   ]
  },
  {
   "cell_type": "markdown",
   "metadata": {
    "papermill": {
     "duration": 0.041784,
     "end_time": "2021-02-28T09:47:42.540783",
     "exception": false,
     "start_time": "2021-02-28T09:47:42.498999",
     "status": "completed"
    },
    "tags": []
   },
   "source": [
    "## ROC curve"
   ]
  },
  {
   "cell_type": "code",
   "execution_count": 160,
   "metadata": {},
   "outputs": [],
   "source": [
    "# For the ROC curve we need not only the predicted class ('Outcome'), but also the scores on what the predictions are based\n",
    "# * if threshold 0\n",
    "#  ** predict>0 => Outcome=1\n",
    "#  ** predict<0 => Outcome=0 \n",
    "#  - Remember that predictions were calculated with METHOD .predict(X_test)\n",
    "#  - Now we also have to include METHOD .decision_function(X_test)\n",
    "y_pred_score = logis.decision_function(X_test)"
   ]
  },
  {
   "cell_type": "code",
   "execution_count": 161,
   "metadata": {},
   "outputs": [],
   "source": [
    "from sklearn.metrics import confusion_matrix, classification_report, roc_curve, roc_auc_score, auc\n",
    "\n",
    "# If using the test set (X_test, y_test)\n",
    "fpr,tpr,threshold= roc_curve(y_test, y_pred_score)"
   ]
  },
  {
   "cell_type": "code",
   "execution_count": 162,
   "metadata": {
    "scrolled": true
   },
   "outputs": [
    {
     "name": "stdout",
     "output_type": "stream",
     "text": [
      "AUC= 0.972162303970151\n"
     ]
    }
   ],
   "source": [
    "# Area Under Curve\n",
    "lr_auc = auc(fpr, tpr)\n",
    "print(\"AUC=\", lr_auc)"
   ]
  },
  {
   "cell_type": "code",
   "execution_count": 163,
   "metadata": {},
   "outputs": [
    {
     "data": {
      "image/png": "[encoded data removed]",
      "text/plain": [
       "<Figure size 500x500 with 1 Axes>"
      ]
     },
     "metadata": {
      "needs_background": "light"
     },
     "output_type": "display_data"
    }
   ],
   "source": [
    "# This default size comes from above\n",
    "#rcParams['figure.figsize'] = 12, 8\n",
    "\n",
    "plt.figure(figsize = (5,5), dpi=100)\n",
    "\n",
    "plt.plot(fpr, tpr, color='red', linestyle='-', label = \"Logistic Regression (auc  = %0.3f)\"%lr_auc)\n",
    "plt.plot([0,1],[0,1],color='blue',linestyle='--')\n",
    "\n",
    "plt.xlabel('False Positive Rate (1-specificity)')\n",
    "plt.ylabel('True Positive Rate (sensitivity)')\n",
    "\n",
    "plt.legend()\n",
    "\n",
    "plt.show()"
   ]
  }
 ],
 "metadata": {
  "kernelspec": {
   "display_name": "Python 3",
   "language": "python",
   "name": "python3"
  },
  "language_info": {
   "codemirror_mode": {
    "name": "ipython",
    "version": 3
   },
   "file_extension": ".py",
   "mimetype": "text/x-python",
   "name": "python",
   "nbconvert_exporter": "python",
   "pygments_lexer": "ipython3",
   "version": "3.7.9"
  },
  "papermill": {
   "default_parameters": {},
   "duration": 17.964349,
   "end_time": "2021-02-28T09:47:44.727128",
   "environment_variables": {},
   "exception": null,
   "input_path": "__notebook__.ipynb",
   "output_path": "__notebook__.ipynb",
   "parameters": {},
   "start_time": "2021-02-28T09:47:26.762779",
   "version": "2.2.2"
  }
 },
 "nbformat": 4,
 "nbformat_minor": 4
}
