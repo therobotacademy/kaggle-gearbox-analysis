{
 "cells": [
  {
   "cell_type": "markdown",
   "metadata": {
    "papermill": {
     "duration": 0.031403,
     "end_time": "2021-03-06T11:19:26.517751",
     "exception": false,
     "start_time": "2021-03-06T11:19:26.486348",
     "status": "completed"
    },
    "tags": []
   },
   "source": [
    "### INPUT Number of rows for aggregated dataset"
   ]
  },
  {
   "cell_type": "code",
   "execution_count": 82,
   "metadata": {
    "execution": {
     "iopub.execute_input": "2021-03-06T11:19:26.582045Z",
     "iopub.status.busy": "2021-03-06T11:19:26.581387Z",
     "iopub.status.idle": "2021-03-06T11:19:26.586813Z",
     "shell.execute_reply": "2021-03-06T11:19:26.586194Z"
    },
    "papermill": {
     "duration": 0.03878,
     "end_time": "2021-03-06T11:19:26.586991",
     "exception": false,
     "start_time": "2021-03-06T11:19:26.548211",
     "status": "completed"
    },
    "tags": []
   },
   "outputs": [],
   "source": [
    "grouped = 100"
   ]
  },
  {
   "cell_type": "code",
   "execution_count": 83,
   "metadata": {
    "_cell_guid": "b1076dfc-b9ad-4769-8c92-a6c4dae69d19",
    "_uuid": "8f2839f25d086af736a60e9eeb907d3b93b6e0e5",
    "execution": {
     "iopub.execute_input": "2021-03-06T11:19:26.413262Z",
     "iopub.status.busy": "2021-03-06T11:19:26.412040Z",
     "iopub.status.idle": "2021-03-06T11:19:26.454376Z",
     "shell.execute_reply": "2021-03-06T11:19:26.453696Z"
    },
    "papermill": {
     "duration": 0.077903,
     "end_time": "2021-03-06T11:19:26.454625",
     "exception": false,
     "start_time": "2021-03-06T11:19:26.376722",
     "status": "completed"
    },
    "tags": []
   },
   "outputs": [],
   "source": [
    "import numpy as np # linear algebra\n",
    "import pandas as pd # data processing, CSV file I/O (e.g. pd.read_csv)\n",
    "import math\n",
    "import os\n",
    "\n",
    "# List all files under the input directory\n",
    "#path = '/kaggle'\n",
    "path = '/tmp/working'\n",
    "input_path = path + '/input/gearbox-fault-diagnosis/'\n"
   ]
  },
  {
   "cell_type": "markdown",
   "metadata": {
    "papermill": {
     "duration": 0.031697,
     "end_time": "2021-03-06T11:19:26.649756",
     "exception": false,
     "start_time": "2021-03-06T11:19:26.618059",
     "status": "completed"
    },
    "tags": []
   },
   "source": [
    "# Read datasets\n",
    "## Healthy gearbox"
   ]
  },
  {
   "cell_type": "code",
   "execution_count": 84,
   "metadata": {
    "execution": {
     "iopub.execute_input": "2021-03-06T11:19:26.717615Z",
     "iopub.status.busy": "2021-03-06T11:19:26.716946Z",
     "iopub.status.idle": "2021-03-06T11:19:28.126006Z",
     "shell.execute_reply": "2021-03-06T11:19:28.126553Z"
    },
    "papermill": {
     "duration": 1.446207,
     "end_time": "2021-03-06T11:19:28.126745",
     "exception": false,
     "start_time": "2021-03-06T11:19:26.680538",
     "status": "completed"
    },
    "tags": []
   },
   "outputs": [],
   "source": [
    "# Healthy gearbox\n",
    "# ---------------\n",
    "h30hz0  = pd.read_csv(input_path + \"/Healthy/h30hz0.csv\")\n",
    "h30hz10 = pd.read_csv(input_path + \"/Healthy/h30hz10.csv\")\n",
    "h30hz20 = pd.read_csv(input_path + \"/Healthy/h30hz20.csv\")\n",
    "h30hz30 = pd.read_csv(input_path + \"/Healthy/h30hz30.csv\")\n",
    "h30hz40 = pd.read_csv(input_path + \"/Healthy/h30hz40.csv\")\n",
    "h30hz50 = pd.read_csv(input_path + \"/Healthy/h30hz50.csv\")\n",
    "h30hz60 = pd.read_csv(input_path + \"/Healthy/h30hz60.csv\")\n",
    "h30hz70 = pd.read_csv(input_path + \"/Healthy/h30hz70.csv\")\n",
    "h30hz80 = pd.read_csv(input_path + \"/Healthy/h30hz80.csv\")\n",
    "h30hz90 = pd.read_csv(input_path + \"/Healthy/h30hz90.csv\")\n"
   ]
  },
  {
   "cell_type": "markdown",
   "metadata": {
    "papermill": {
     "duration": 0.030892,
     "end_time": "2021-03-06T11:19:28.189060",
     "exception": false,
     "start_time": "2021-03-06T11:19:28.158168",
     "status": "completed"
    },
    "tags": []
   },
   "source": [
    "# Broken gearbox"
   ]
  },
  {
   "cell_type": "code",
   "execution_count": 85,
   "metadata": {
    "execution": {
     "iopub.execute_input": "2021-03-06T11:19:28.254799Z",
     "iopub.status.busy": "2021-03-06T11:19:28.254015Z",
     "iopub.status.idle": "2021-03-06T11:19:29.550018Z",
     "shell.execute_reply": "2021-03-06T11:19:29.548938Z"
    },
    "papermill": {
     "duration": 1.330308,
     "end_time": "2021-03-06T11:19:29.550228",
     "exception": false,
     "start_time": "2021-03-06T11:19:28.219920",
     "status": "completed"
    },
    "tags": []
   },
   "outputs": [],
   "source": [
    "# Broken gearbox\n",
    "# --------------\n",
    "b30hz0  = pd.read_csv(input_path + \"/BrokenTooth/b30hz0.csv\")\n",
    "b30hz10 = pd.read_csv(input_path + \"/BrokenTooth/b30hz10.csv\")\n",
    "b30hz20 = pd.read_csv(input_path + \"/BrokenTooth/b30hz20.csv\")\n",
    "b30hz30 = pd.read_csv(input_path + \"/BrokenTooth/b30hz30.csv\")\n",
    "b30hz40 = pd.read_csv(input_path + \"/BrokenTooth/b30hz40.csv\")\n",
    "b30hz50 = pd.read_csv(input_path + \"/BrokenTooth/b30hz50.csv\")\n",
    "b30hz60 = pd.read_csv(input_path + \"/BrokenTooth/b30hz60.csv\")\n",
    "b30hz70 = pd.read_csv(input_path + \"/BrokenTooth/b30hz70.csv\")\n",
    "b30hz80 = pd.read_csv(input_path + \"/BrokenTooth/b30hz80.csv\")\n",
    "b30hz90 = pd.read_csv(input_path + \"/BrokenTooth/b30hz90.csv\")"
   ]
  },
  {
   "cell_type": "markdown",
   "metadata": {
    "papermill": {
     "duration": 0.033381,
     "end_time": "2021-03-06T11:19:29.619545",
     "exception": false,
     "start_time": "2021-03-06T11:19:29.586164",
     "status": "completed"
    },
    "tags": []
   },
   "source": [
    "# Compute aggregated datasets\n",
    "## Function to compute aggregated features: standard deviation"
   ]
  },
  {
   "cell_type": "code",
   "execution_count": 86,
   "metadata": {
    "execution": {
     "iopub.execute_input": "2021-03-06T11:19:29.692224Z",
     "iopub.status.busy": "2021-03-06T11:19:29.691213Z",
     "iopub.status.idle": "2021-03-06T11:19:29.694490Z",
     "shell.execute_reply": "2021-03-06T11:19:29.693966Z"
    },
    "papermill": {
     "duration": 0.044148,
     "end_time": "2021-03-06T11:19:29.694652",
     "exception": false,
     "start_time": "2021-03-06T11:19:29.650504",
     "status": "completed"
    },
    "tags": []
   },
   "outputs": [],
   "source": [
    "def stdev_features(df, grouped, load, outcome):\n",
    "    #### Create empty dataframe with columns a1,a2,a3,a4\n",
    "    df_result = pd.DataFrame( [ np.zeros(len(df.columns)-2) ],columns= df.columns[:-2])\n",
    "\n",
    "    #### Aggregate in groups of nrows computing the standard deviation\n",
    "    # Remove load & failure columns, keeping only a1,a2,a3,a4\n",
    "    stdev_lenght=len(df.columns)-2\n",
    "    \n",
    "    #### Compute number of rows of the aggregated dataframe\n",
    "    nrows_raw = len(df.index)\n",
    "    nrows = math.floor(nrows_raw / grouped)\n",
    "    nrows_dropped = nrows_raw - nrows*grouped\n",
    "    print(\"nrows_raw=\", nrows_raw, \"   nrows=\", nrows, \"   Number of dropped rows of grouped= \", nrows_dropped/grouped*100,\"%\\n\")\n",
    "    \n",
    "    # Iterate every 'grouped' rows and compute stdev per column\n",
    "    for i in range(nrows):\n",
    "      df_group = df.iloc[i*grouped:i*grouped+grouped,:]\n",
    "      df_stdev = pd.DataFrame(df_group.std()).transpose()\n",
    "      # Remove load & failure columns\n",
    "      df_stdev=df_stdev.iloc[:,:stdev_lenght]\n",
    "      # Add row of calculated stdev\n",
    "      df_result = df_result.append(df_stdev, ignore_index=True)\n",
    "\n",
    "      #print (\"i*grouped TO i*grouped+grouped\", i*grouped, i*grouped+grouped)\n",
    "      #print (\"row, df_stdev=\\n\", row, df_stdev.iloc[:,:])\n",
    "      #print (\"df_result=\\n\", df_result)\n",
    "      #print(\"row\", i, \"\\n\", df_group)\n",
    "\n",
    "\n",
    "    # Remove the first row (it was the seed of zeros for initializing df_result)\n",
    "    #print(df_result)\n",
    "    df_result = df_result.iloc[1:,:]\n",
    "    # Add the column for 'load'\n",
    "    df_result['load'] = load*np.ones((nrows,1))\n",
    "\n",
    "    # Add the column for 'failure'\n",
    "    failure = np.ones((nrows,1))\n",
    "    df_result['failure'] = outcome\n",
    "    print(df_result)\n",
    "    \n",
    "    return df_result\n",
    "    "
   ]
  },
  {
   "cell_type": "markdown",
   "metadata": {
    "papermill": {
     "duration": 0.031567,
     "end_time": "2021-03-06T11:19:29.757273",
     "exception": false,
     "start_time": "2021-03-06T11:19:29.725706",
     "status": "completed"
    },
    "tags": []
   },
   "source": [
    "## Load= 0%"
   ]
  },
  {
   "cell_type": "code",
   "execution_count": 87,
   "metadata": {
    "execution": {
     "iopub.execute_input": "2021-03-06T11:19:29.827301Z",
     "iopub.status.busy": "2021-03-06T11:19:29.825153Z",
     "iopub.status.idle": "2021-03-06T11:19:31.157961Z",
     "shell.execute_reply": "2021-03-06T11:19:31.157323Z"
    },
    "papermill": {
     "duration": 1.369885,
     "end_time": "2021-03-06T11:19:31.158148",
     "exception": false,
     "start_time": "2021-03-06T11:19:29.788263",
     "status": "completed"
    },
    "tags": []
   },
   "outputs": [
    {
     "name": "stdout",
     "output_type": "stream",
     "text": [
      "nrows_raw= 88320    nrows= 883    Number of dropped rows of grouped=  20.0 %\n",
      "\n",
      "           a1        a2        a3        a4  load  failure\n",
      "1    2.773743  3.625441  3.053217  2.479670   0.0        1\n",
      "2    3.009118  3.566201  2.854556  2.597574   0.0        1\n",
      "3    2.258893  3.189251  1.971267  1.726624   0.0        1\n",
      "4    2.486789  2.758437  2.658690  2.068924   0.0        1\n",
      "5    3.245092  3.051541  2.536531  2.085758   0.0        1\n",
      "..        ...       ...       ...       ...   ...      ...\n",
      "879  4.655225  3.947581  3.061973  4.061803   0.0        1\n",
      "880  3.364573  5.013792  3.509107  3.431726   0.0        1\n",
      "881  3.749922  3.874292  3.278999  3.746721   0.0        1\n",
      "882  2.389255  2.278619  1.591716  2.295268   0.0        1\n",
      "883  4.544790  4.695638  4.655669  3.433364   0.0        1\n",
      "\n",
      "[883 rows x 6 columns]\n"
     ]
    }
   ],
   "source": [
    "# [H.0] DATASET BROKEN, 0% LOAD\n",
    "load = 0\n",
    "\n",
    "# CREATE THE COLUMN FOR 'load'\n",
    "## Expressed as %\n",
    "b30hz0['load'] = load*np.ones((len(b30hz0.index),1))\n",
    "\n",
    "# CREATE THE COLUMN FOR 'failure'\n",
    "##   0 is healthy\n",
    "##   1 is broken\n",
    "failure = 1\n",
    "failureArray = np.ones((len(b30hz0.index),1))\n",
    "b30hz0['failure'] = failureArray\n",
    "#b30hz0.describe()\n",
    "\n",
    "b30hz0_stdev= stdev_features (df = b30hz0, grouped= grouped, load= load, outcome= failure)\n",
    "#b30hz0_stdev.describe()"
   ]
  },
  {
   "cell_type": "code",
   "execution_count": 88,
   "metadata": {
    "execution": {
     "iopub.execute_input": "2021-03-06T11:19:31.229138Z",
     "iopub.status.busy": "2021-03-06T11:19:31.228343Z",
     "iopub.status.idle": "2021-03-06T11:19:32.585573Z",
     "shell.execute_reply": "2021-03-06T11:19:32.586392Z"
    },
    "papermill": {
     "duration": 1.395951,
     "end_time": "2021-03-06T11:19:32.586637",
     "exception": false,
     "start_time": "2021-03-06T11:19:31.190686",
     "status": "completed"
    },
    "tags": []
   },
   "outputs": [
    {
     "name": "stdout",
     "output_type": "stream",
     "text": [
      "nrows_raw= 88832    nrows= 888    Number of dropped rows of grouped=  32.0 %\n",
      "\n",
      "           a1        a2        a3        a4  load  failure\n",
      "1    4.518469  2.627219  3.129601  3.046165   0.0        0\n",
      "2    3.463637  2.616907  2.286667  2.389276   0.0        0\n",
      "3    4.461867  2.833214  2.413283  2.977934   0.0        0\n",
      "4    4.381037  4.703040  2.668196  2.650610   0.0        0\n",
      "5    3.880276  3.054690  2.502711  2.147417   0.0        0\n",
      "..        ...       ...       ...       ...   ...      ...\n",
      "884  2.119644  1.351392  1.524543  1.442983   0.0        0\n",
      "885  3.644520  2.551445  2.531753  2.083169   0.0        0\n",
      "886  3.096537  2.772343  1.819461  1.997667   0.0        0\n",
      "887  4.810296  2.917624  2.365434  2.678131   0.0        0\n",
      "888  3.814070  2.744130  2.529900  2.127945   0.0        0\n",
      "\n",
      "[888 rows x 6 columns]\n"
     ]
    }
   ],
   "source": [
    "# [H.0] DATASET HEALTHY, 0% LOAD\n",
    "load = 0\n",
    "\n",
    "# CREATE THE COLUMN FOR 'load'\n",
    "## Expressed as %\n",
    "h30hz0['load'] = load*np.ones((len(h30hz0.index),1))\n",
    "\n",
    "# CREATE THE COLUMN FOR 'failure'\n",
    "failure = 0\n",
    "failureArray = np.ones((len(h30hz0.index),1))\n",
    "h30hz0['failure'] = failureArray\n",
    "\n",
    "h30hz0_stdev= stdev_features (df = h30hz0, grouped= grouped, load= load, outcome= failure)\n",
    "#b30hz0_stdev.describe()"
   ]
  },
  {
   "cell_type": "markdown",
   "metadata": {
    "papermill": {
     "duration": 0.032373,
     "end_time": "2021-03-06T11:19:32.653340",
     "exception": false,
     "start_time": "2021-03-06T11:19:32.620967",
     "status": "completed"
    },
    "tags": []
   },
   "source": [
    "## Load= 10%"
   ]
  },
  {
   "cell_type": "code",
   "execution_count": 89,
   "metadata": {
    "execution": {
     "iopub.execute_input": "2021-03-06T11:19:32.724245Z",
     "iopub.status.busy": "2021-03-06T11:19:32.723636Z",
     "iopub.status.idle": "2021-03-06T11:19:34.386888Z",
     "shell.execute_reply": "2021-03-06T11:19:34.386322Z"
    },
    "papermill": {
     "duration": 1.701311,
     "end_time": "2021-03-06T11:19:34.387030",
     "exception": false,
     "start_time": "2021-03-06T11:19:32.685719",
     "status": "completed"
    },
    "tags": []
   },
   "outputs": [
    {
     "name": "stdout",
     "output_type": "stream",
     "text": [
      "nrows_raw= 111616    nrows= 1116    Number of dropped rows of grouped=  16.0 %\n",
      "\n",
      "            a1        a2        a3        a4  load  failure\n",
      "1     3.947241  2.625565  3.075201  2.759145  10.0        1\n",
      "2     3.768801  3.270266  2.846681  3.223817  10.0        1\n",
      "3     3.318944  4.121886  2.990541  3.178636  10.0        1\n",
      "4     5.918385  4.390473  3.856991  4.703490  10.0        1\n",
      "5     2.621164  3.098193  2.674376  2.385791  10.0        1\n",
      "...        ...       ...       ...       ...   ...      ...\n",
      "1112  2.199512  3.386571  2.376948  2.548087  10.0        1\n",
      "1113  2.590362  3.094107  2.297680  2.346342  10.0        1\n",
      "1114  3.397182  3.866719  3.163785  3.127293  10.0        1\n",
      "1115  2.893202  4.044202  2.679493  2.321979  10.0        1\n",
      "1116  1.981846  2.945338  2.128224  1.803724  10.0        1\n",
      "\n",
      "[1116 rows x 6 columns]\n"
     ]
    }
   ],
   "source": [
    "# [H.1] DATASET BROKEN, 10% LOAD\n",
    "load = 10\n",
    "\n",
    "# CREATE THE COLUMN FOR 'load'\n",
    "## Expressed as %\n",
    "b30hz10['load'] = load*np.ones((len(b30hz10.index),1))\n",
    "\n",
    "# CREATE THE COLUMN FOR 'failure'\n",
    "##   0 is healthy\n",
    "##   1 is broken\n",
    "failure = 1\n",
    "failureArray = np.ones((len(b30hz10.index),1))\n",
    "b30hz10['failure'] = failureArray\n",
    "#b30hz10.describe()\n",
    "\n",
    "b30hz10_stdev= stdev_features (df = b30hz10, grouped= grouped, load= load, outcome= failure)\n",
    "#b30hz10_stdev.describe()"
   ]
  },
  {
   "cell_type": "code",
   "execution_count": 90,
   "metadata": {
    "execution": {
     "iopub.execute_input": "2021-03-06T11:19:34.460053Z",
     "iopub.status.busy": "2021-03-06T11:19:34.459395Z",
     "iopub.status.idle": "2021-03-06T11:19:35.857533Z",
     "shell.execute_reply": "2021-03-06T11:19:35.858314Z"
    },
    "papermill": {
     "duration": 1.438101,
     "end_time": "2021-03-06T11:19:35.858589",
     "exception": false,
     "start_time": "2021-03-06T11:19:34.420488",
     "status": "completed"
    },
    "tags": []
   },
   "outputs": [
    {
     "name": "stdout",
     "output_type": "stream",
     "text": [
      "nrows_raw= 92928    nrows= 929    Number of dropped rows of grouped=  28.000000000000004 %\n",
      "\n",
      "            a1        a2        a3        a4  load  failure\n",
      "1    10.138598  4.113320  4.783741  4.474848  10.0        0\n",
      "2     7.550895  6.508534  3.872753  4.031962  10.0        0\n",
      "3     5.142263  5.157923  3.725511  3.112694  10.0        0\n",
      "4     4.592986  2.735169  3.135584  2.825671  10.0        0\n",
      "5     4.486037  3.127276  2.870951  2.695032  10.0        0\n",
      "..         ...       ...       ...       ...   ...      ...\n",
      "925   5.885659  3.794135  3.414226  3.333931  10.0        0\n",
      "926   6.896978  4.911135  3.771213  3.553566  10.0        0\n",
      "927   6.372834  6.325193  3.777180  3.369915  10.0        0\n",
      "928   5.415537  5.092150  3.459654  3.222893  10.0        0\n",
      "929   4.474746  2.769132  2.779264  3.096695  10.0        0\n",
      "\n",
      "[929 rows x 6 columns]\n"
     ]
    }
   ],
   "source": [
    "# [H.1] DATASET HEALTHY, 10% LOAD\n",
    "load = 10\n",
    "\n",
    "# CREATE THE COLUMN FOR 'load'\n",
    "## Expressed as %\n",
    "h30hz10['load'] = load*np.ones((len(h30hz10.index),1))\n",
    "\n",
    "# CREATE THE COLUMN FOR 'failure'\n",
    "failure = 0\n",
    "failureArray = np.ones((len(h30hz10.index),1))\n",
    "h30hz10['failure'] = failureArray\n",
    "\n",
    "h30hz10_stdev= stdev_features (df = h30hz10, grouped= grouped, load= load, outcome= failure)\n",
    "#b30hz10_stdev.describe()"
   ]
  },
  {
   "cell_type": "markdown",
   "metadata": {
    "papermill": {
     "duration": 0.034019,
     "end_time": "2021-03-06T11:19:35.927409",
     "exception": false,
     "start_time": "2021-03-06T11:19:35.893390",
     "status": "completed"
    },
    "tags": []
   },
   "source": [
    "## Load= 20%"
   ]
  },
  {
   "cell_type": "code",
   "execution_count": 91,
   "metadata": {
    "execution": {
     "iopub.execute_input": "2021-03-06T11:19:36.003613Z",
     "iopub.status.busy": "2021-03-06T11:19:36.002894Z",
     "iopub.status.idle": "2021-03-06T11:19:37.720900Z",
     "shell.execute_reply": "2021-03-06T11:19:37.720236Z"
    },
    "papermill": {
     "duration": 1.758877,
     "end_time": "2021-03-06T11:19:37.721064",
     "exception": false,
     "start_time": "2021-03-06T11:19:35.962187",
     "status": "completed"
    },
    "tags": []
   },
   "outputs": [
    {
     "name": "stdout",
     "output_type": "stream",
     "text": [
      "nrows_raw= 114432    nrows= 1144    Number of dropped rows of grouped=  32.0 %\n",
      "\n",
      "            a1        a2        a3        a4  load  failure\n",
      "1     2.924137  5.003475  3.886632  4.737741  20.0        1\n",
      "2     2.648921  2.820215  2.994127  2.860806  20.0        1\n",
      "3     3.610350  2.969249  2.743845  4.603176  20.0        1\n",
      "4     6.321876  4.448391  4.400342  4.199627  20.0        1\n",
      "5     3.249063  3.808483  3.581892  4.354598  20.0        1\n",
      "...        ...       ...       ...       ...   ...      ...\n",
      "1140  2.845084  3.029629  2.511096  2.488121  20.0        1\n",
      "1141  2.373844  4.022596  3.044352  3.061497  20.0        1\n",
      "1142  3.061555  3.817103  2.591231  2.746654  20.0        1\n",
      "1143  3.408097  4.194282  3.413312  4.026020  20.0        1\n",
      "1144  3.823588  3.822165  3.614803  3.805729  20.0        1\n",
      "\n",
      "[1144 rows x 6 columns]\n"
     ]
    }
   ],
   "source": [
    "# [H.2] DATASET BROKEN, 20% LOAD\n",
    "load = 20\n",
    "\n",
    "# CREATE THE COLUMN FOR 'load'\n",
    "## Expressed as %\n",
    "b30hz20['load'] = load*np.ones((len(b30hz20.index),1))\n",
    "\n",
    "# CREATE THE COLUMN FOR 'failure'\n",
    "##   0 is healthy\n",
    "##   1 is broken\n",
    "failure = 1\n",
    "failureArray = np.ones((len(b30hz20.index),1))\n",
    "b30hz20['failure'] = failureArray\n",
    "#b30hz20.describe()\n",
    "\n",
    "b30hz20_stdev= stdev_features (df = b30hz20, grouped= grouped, load= load, outcome= failure)\n",
    "#b30hz20_stdev.describe()"
   ]
  },
  {
   "cell_type": "code",
   "execution_count": 92,
   "metadata": {
    "execution": {
     "iopub.execute_input": "2021-03-06T11:19:37.799031Z",
     "iopub.status.busy": "2021-03-06T11:19:37.798061Z",
     "iopub.status.idle": "2021-03-06T11:19:39.424824Z",
     "shell.execute_reply": "2021-03-06T11:19:39.425324Z"
    },
    "papermill": {
     "duration": 1.668961,
     "end_time": "2021-03-06T11:19:39.425532",
     "exception": false,
     "start_time": "2021-03-06T11:19:37.756571",
     "status": "completed"
    },
    "tags": []
   },
   "outputs": [
    {
     "name": "stdout",
     "output_type": "stream",
     "text": [
      "nrows_raw= 108544    nrows= 1085    Number of dropped rows of grouped=  44.0 %\n",
      "\n",
      "             a1        a2        a3        a4  load  failure\n",
      "1      5.487624  3.360786  3.229484  3.120885  20.0        0\n",
      "2     11.425865  4.412819  5.381959  4.509242  20.0        0\n",
      "3      7.846365  6.306435  4.572026  4.374290  20.0        0\n",
      "4      5.836613  3.534423  3.558668  3.548425  20.0        0\n",
      "5      4.122627  2.249694  2.250503  2.882324  20.0        0\n",
      "...         ...       ...       ...       ...   ...      ...\n",
      "1081   2.546591  1.590065  1.990194  1.773325  20.0        0\n",
      "1082   4.302383  3.084486  2.749144  2.380652  20.0        0\n",
      "1083   3.871073  3.449995  2.670193  2.639361  20.0        0\n",
      "1084   4.782154  2.943181  2.116463  2.130002  20.0        0\n",
      "1085   3.941571  2.712904  2.984194  2.248856  20.0        0\n",
      "\n",
      "[1085 rows x 6 columns]\n"
     ]
    }
   ],
   "source": [
    "# [H.2] DATASET HEALTHY, 20% LOAD\n",
    "load = 20\n",
    "\n",
    "# CREATE THE COLUMN FOR 'load'\n",
    "## Expressed as %\n",
    "h30hz20['load'] = load*np.ones((len(h30hz20.index),1))\n",
    "\n",
    "# CREATE THE COLUMN FOR 'failure'\n",
    "failure = 0\n",
    "failureArray = np.ones((len(h30hz20.index),1))\n",
    "h30hz20['failure'] = failureArray\n",
    "\n",
    "h30hz20_stdev= stdev_features (df = h30hz20, grouped= grouped, load= load, outcome= failure)\n",
    "#b30hz20_stdev.describe()"
   ]
  },
  {
   "cell_type": "markdown",
   "metadata": {
    "papermill": {
     "duration": 0.035189,
     "end_time": "2021-03-06T11:19:39.496961",
     "exception": false,
     "start_time": "2021-03-06T11:19:39.461772",
     "status": "completed"
    },
    "tags": []
   },
   "source": [
    "## Load= 30%"
   ]
  },
  {
   "cell_type": "code",
   "execution_count": 93,
   "metadata": {
    "execution": {
     "iopub.execute_input": "2021-03-06T11:19:39.574318Z",
     "iopub.status.busy": "2021-03-06T11:19:39.573614Z",
     "iopub.status.idle": "2021-03-06T11:19:40.960811Z",
     "shell.execute_reply": "2021-03-06T11:19:40.959943Z"
    },
    "papermill": {
     "duration": 1.428534,
     "end_time": "2021-03-06T11:19:40.961009",
     "exception": false,
     "start_time": "2021-03-06T11:19:39.532475",
     "status": "completed"
    },
    "tags": []
   },
   "outputs": [
    {
     "name": "stdout",
     "output_type": "stream",
     "text": [
      "nrows_raw= 89856    nrows= 898    Number of dropped rows of grouped=  56.00000000000001 %\n",
      "\n",
      "           a1        a2        a3        a4  load  failure\n",
      "1    5.178408  5.534030  5.368494  5.665968  30.0        1\n",
      "2    4.277515  4.039146  4.119412  4.148621  30.0        1\n",
      "3    2.874628  3.474401  3.175718  2.920996  30.0        1\n",
      "4    3.390684  3.455118  2.970112  3.334487  30.0        1\n",
      "5    3.868169  3.979720  3.621905  4.327168  30.0        1\n",
      "..        ...       ...       ...       ...   ...      ...\n",
      "894  5.975786  3.860299  4.174251  4.349155  30.0        1\n",
      "895  4.934639  4.614853  4.536547  5.837843  30.0        1\n",
      "896  4.078120  4.067854  3.883442  3.985121  30.0        1\n",
      "897  4.037747  3.578898  3.573310  4.393785  30.0        1\n",
      "898  4.181590  3.476764  3.603086  2.896070  30.0        1\n",
      "\n",
      "[898 rows x 6 columns]\n"
     ]
    }
   ],
   "source": [
    "# [H.3] DATASET BROKEN, 30% LOAD\n",
    "load = 30\n",
    "\n",
    "# CREATE THE COLUMN FOR 'load'\n",
    "## Expressed as %\n",
    "b30hz30['load'] = load*np.ones((len(b30hz30.index),1))\n",
    "\n",
    "# CREATE THE COLUMN FOR 'failure'\n",
    "##   0 is healthy\n",
    "##   1 is broken\n",
    "failure = 1\n",
    "failureArray = np.ones((len(b30hz30.index),1))\n",
    "b30hz30['failure'] = failureArray\n",
    "#b30hz30.describe()\n",
    "\n",
    "b30hz30_stdev= stdev_features (df = b30hz30, grouped= grouped, load= load, outcome= failure)\n",
    "#b30hz30_stdev.describe()"
   ]
  },
  {
   "cell_type": "code",
   "execution_count": 94,
   "metadata": {
    "execution": {
     "iopub.execute_input": "2021-03-06T11:19:41.042323Z",
     "iopub.status.busy": "2021-03-06T11:19:41.041643Z",
     "iopub.status.idle": "2021-03-06T11:19:42.624753Z",
     "shell.execute_reply": "2021-03-06T11:19:42.625199Z"
    },
    "papermill": {
     "duration": 1.626965,
     "end_time": "2021-03-06T11:19:42.625371",
     "exception": false,
     "start_time": "2021-03-06T11:19:40.998406",
     "status": "completed"
    },
    "tags": []
   },
   "outputs": [
    {
     "name": "stdout",
     "output_type": "stream",
     "text": [
      "nrows_raw= 106240    nrows= 1062    Number of dropped rows of grouped=  40.0 %\n",
      "\n",
      "             a1        a2        a3        a4  load  failure\n",
      "1      6.722006  3.798253  3.494062  4.340654  30.0        0\n",
      "2      6.969772  2.950190  3.933455  4.042469  30.0        0\n",
      "3     11.202765  4.641950  5.703556  4.750020  30.0        0\n",
      "4      6.208754  5.846026  3.479599  4.163089  30.0        0\n",
      "5      7.609760  5.184631  4.541050  4.068528  30.0        0\n",
      "...         ...       ...       ...       ...   ...      ...\n",
      "1058  10.205741  4.588561  5.385186  4.985253  30.0        0\n",
      "1059   8.113069  8.247422  5.233717  4.560866  30.0        0\n",
      "1060   5.467817  5.006407  4.275523  3.899923  30.0        0\n",
      "1061   5.659547  3.137832  3.594448  3.691319  30.0        0\n",
      "1062   7.130998  3.690707  4.590844  4.268382  30.0        0\n",
      "\n",
      "[1062 rows x 6 columns]\n"
     ]
    }
   ],
   "source": [
    "# [H.3] DATASET HEALTHY, 30% LOAD\n",
    "load = 30\n",
    "\n",
    "# CREATE THE COLUMN FOR 'load'\n",
    "## Expressed as %\n",
    "h30hz30['load'] = load*np.ones((len(h30hz30.index),1))\n",
    "\n",
    "# CREATE THE COLUMN FOR 'failure'\n",
    "failure = 0\n",
    "failureArray = np.ones((len(h30hz30.index),1))\n",
    "h30hz30['failure'] = failureArray\n",
    "\n",
    "h30hz30_stdev= stdev_features (df = h30hz30, grouped= grouped, load= load, outcome= failure)\n",
    "#b30hz30_stdev.describe()"
   ]
  },
  {
   "cell_type": "markdown",
   "metadata": {
    "papermill": {
     "duration": 0.037033,
     "end_time": "2021-03-06T11:19:42.699735",
     "exception": false,
     "start_time": "2021-03-06T11:19:42.662702",
     "status": "completed"
    },
    "tags": []
   },
   "source": [
    "## Load= 40%"
   ]
  },
  {
   "cell_type": "code",
   "execution_count": 95,
   "metadata": {
    "execution": {
     "iopub.execute_input": "2021-03-06T11:19:42.784329Z",
     "iopub.status.busy": "2021-03-06T11:19:42.783327Z",
     "iopub.status.idle": "2021-03-06T11:19:44.189903Z",
     "shell.execute_reply": "2021-03-06T11:19:44.189190Z"
    },
    "papermill": {
     "duration": 1.453318,
     "end_time": "2021-03-06T11:19:44.190047",
     "exception": false,
     "start_time": "2021-03-06T11:19:42.736729",
     "status": "completed"
    },
    "tags": []
   },
   "outputs": [
    {
     "name": "stdout",
     "output_type": "stream",
     "text": [
      "nrows_raw= 94464    nrows= 944    Number of dropped rows of grouped=  64.0 %\n",
      "\n",
      "           a1        a2        a3        a4  load  failure\n",
      "1    3.462722  2.885941  2.067547  2.892010  40.0        1\n",
      "2    5.467886  5.081921  3.771765  3.134318  40.0        1\n",
      "3    4.505397  4.474604  4.263436  6.134662  40.0        1\n",
      "4    4.780326  4.763837  3.188865  3.547939  40.0        1\n",
      "5    4.761832  4.120222  3.800517  4.511873  40.0        1\n",
      "..        ...       ...       ...       ...   ...      ...\n",
      "940  4.977273  5.211589  4.640998  5.107940  40.0        1\n",
      "941  3.750218  3.727502  2.925126  3.834416  40.0        1\n",
      "942  5.959528  4.821340  3.998001  5.833581  40.0        1\n",
      "943  5.568813  4.956242  4.517337  5.890560  40.0        1\n",
      "944  6.055547  5.407913  5.564590  6.530028  40.0        1\n",
      "\n",
      "[944 rows x 6 columns]\n"
     ]
    }
   ],
   "source": [
    "# [H.4] DATASET BROKEN, 40% LOAD\n",
    "load = 40\n",
    "\n",
    "# CREATE THE COLUMN FOR 'load'\n",
    "## Expressed as %\n",
    "b30hz40['load'] = load*np.ones((len(b30hz40.index),1))\n",
    "\n",
    "# CREATE THE COLUMN FOR 'failure'\n",
    "##   0 is healthy\n",
    "##   1 is broken\n",
    "failure = 1\n",
    "failureArray = np.ones((len(b30hz40.index),1))\n",
    "b30hz40['failure'] = failureArray\n",
    "#b30hz40.describe()\n",
    "\n",
    "b30hz40_stdev= stdev_features (df = b30hz40, grouped= grouped, load= load, outcome= failure)\n",
    "#b30hz40_stdev.describe()"
   ]
  },
  {
   "cell_type": "code",
   "execution_count": 96,
   "metadata": {
    "execution": {
     "iopub.execute_input": "2021-03-06T11:19:44.274091Z",
     "iopub.status.busy": "2021-03-06T11:19:44.273372Z",
     "iopub.status.idle": "2021-03-06T11:19:45.807561Z",
     "shell.execute_reply": "2021-03-06T11:19:45.808076Z"
    },
    "papermill": {
     "duration": 1.57921,
     "end_time": "2021-03-06T11:19:45.808247",
     "exception": false,
     "start_time": "2021-03-06T11:19:44.229037",
     "status": "completed"
    },
    "tags": []
   },
   "outputs": [
    {
     "name": "stdout",
     "output_type": "stream",
     "text": [
      "nrows_raw= 100608    nrows= 1006    Number of dropped rows of grouped=  8.0 %\n",
      "\n",
      "            a1        a2        a3        a4  load  failure\n",
      "1     5.358173  3.520671  3.431255  3.875389  40.0        0\n",
      "2     3.842883  2.178120  2.994552  2.773154  40.0        0\n",
      "3     6.096313  3.362406  3.098790  3.593120  40.0        0\n",
      "4     7.518593  4.727157  3.578056  3.488432  40.0        0\n",
      "5     4.775180  4.136790  2.963929  3.171000  40.0        0\n",
      "...        ...       ...       ...       ...   ...      ...\n",
      "1002  6.624234  3.402220  3.549593  4.042739  40.0        0\n",
      "1003  6.545162  3.997506  4.473011  3.820186  40.0        0\n",
      "1004  4.410634  3.689969  3.082019  3.154647  40.0        0\n",
      "1005  4.796943  3.492424  3.627903  3.419745  40.0        0\n",
      "1006  6.669897  3.709734  4.668362  3.731572  40.0        0\n",
      "\n",
      "[1006 rows x 6 columns]\n"
     ]
    }
   ],
   "source": [
    "# [H.4] DATASET HEALTHY, 40% LOAD\n",
    "load = 40\n",
    "\n",
    "# CREATE THE COLUMN FOR 'load'\n",
    "## Expressed as %\n",
    "h30hz40['load'] = load*np.ones((len(h30hz40.index),1))\n",
    "\n",
    "# CREATE THE COLUMN FOR 'failure'\n",
    "failure = 0\n",
    "failureArray = np.ones((len(h30hz40.index),1))\n",
    "h30hz40['failure'] = failureArray\n",
    "\n",
    "h30hz40_stdev= stdev_features (df = h30hz40, grouped= grouped, load= load, outcome= failure)\n",
    "#b30hz40_stdev.describe()"
   ]
  },
  {
   "cell_type": "markdown",
   "metadata": {
    "papermill": {
     "duration": 0.038211,
     "end_time": "2021-03-06T11:19:45.885074",
     "exception": false,
     "start_time": "2021-03-06T11:19:45.846863",
     "status": "completed"
    },
    "tags": []
   },
   "source": [
    "## Load= 50%"
   ]
  },
  {
   "cell_type": "code",
   "execution_count": 97,
   "metadata": {
    "execution": {
     "iopub.execute_input": "2021-03-06T11:19:45.970619Z",
     "iopub.status.busy": "2021-03-06T11:19:45.969430Z",
     "iopub.status.idle": "2021-03-06T11:19:47.385181Z",
     "shell.execute_reply": "2021-03-06T11:19:47.384657Z"
    },
    "papermill": {
     "duration": 1.461812,
     "end_time": "2021-03-06T11:19:47.385322",
     "exception": false,
     "start_time": "2021-03-06T11:19:45.923510",
     "status": "completed"
    },
    "tags": []
   },
   "outputs": [
    {
     "name": "stdout",
     "output_type": "stream",
     "text": [
      "nrows_raw= 94208    nrows= 942    Number of dropped rows of grouped=  8.0 %\n",
      "\n",
      "           a1        a2        a3        a4  load  failure\n",
      "1    4.074277  3.959726  3.714255  4.512339  50.0        1\n",
      "2    5.187320  5.233059  5.293654  5.405332  50.0        1\n",
      "3    4.017821  4.337115  3.735858  4.022260  50.0        1\n",
      "4    3.980077  3.805700  3.251535  3.797708  50.0        1\n",
      "5    5.351070  4.784816  3.856292  3.052571  50.0        1\n",
      "..        ...       ...       ...       ...   ...      ...\n",
      "938  5.834674  5.292088  4.617439  4.544466  50.0        1\n",
      "939  6.022831  5.870030  5.206705  5.151529  50.0        1\n",
      "940  4.229254  4.223779  4.320060  4.894417  50.0        1\n",
      "941  5.238284  4.234645  4.469740  5.188221  50.0        1\n",
      "942  4.550657  4.600452  3.973703  4.136495  50.0        1\n",
      "\n",
      "[942 rows x 6 columns]\n"
     ]
    }
   ],
   "source": [
    "# [H.5] DATASET BROKEN, 50% LOAD\n",
    "load = 50\n",
    "\n",
    "# CREATE THE COLUMN FOR 'load'\n",
    "## Expressed as %\n",
    "b30hz50['load'] = load*np.ones((len(b30hz50.index),1))\n",
    "\n",
    "# CREATE THE COLUMN FOR 'failure'\n",
    "##   0 is healthy\n",
    "##   1 is broken\n",
    "failure = 1\n",
    "failureArray = np.ones((len(b30hz50.index),1))\n",
    "b30hz50['failure'] = failureArray\n",
    "#b30hz50.describe()\n",
    "\n",
    "b30hz50_stdev= stdev_features (df = b30hz50, grouped= grouped, load= load, outcome= failure)\n",
    "#b30hz50_stdev.describe()"
   ]
  },
  {
   "cell_type": "code",
   "execution_count": 98,
   "metadata": {
    "execution": {
     "iopub.execute_input": "2021-03-06T11:19:47.475175Z",
     "iopub.status.busy": "2021-03-06T11:19:47.474468Z",
     "iopub.status.idle": "2021-03-06T11:19:49.195248Z",
     "shell.execute_reply": "2021-03-06T11:19:49.194564Z"
    },
    "papermill": {
     "duration": 1.769621,
     "end_time": "2021-03-06T11:19:49.195413",
     "exception": false,
     "start_time": "2021-03-06T11:19:47.425792",
     "status": "completed"
    },
    "tags": []
   },
   "outputs": [
    {
     "name": "stdout",
     "output_type": "stream",
     "text": [
      "nrows_raw= 110848    nrows= 1108    Number of dropped rows of grouped=  48.0 %\n",
      "\n",
      "             a1        a2        a3        a4  load  failure\n",
      "1      7.666688  4.676215  4.684783  6.325950  50.0        0\n",
      "2      6.271764  4.564287  4.188379  4.725669  50.0        0\n",
      "3      5.494505  3.514439  3.378873  3.782597  50.0        0\n",
      "4      6.088557  3.716829  3.448634  4.096078  50.0        0\n",
      "5      8.231261  4.582871  4.361992  4.395931  50.0        0\n",
      "...         ...       ...       ...       ...   ...      ...\n",
      "1104   5.710045  3.067117  2.864667  3.543264  50.0        0\n",
      "1105   7.884472  5.187024  4.108225  4.509269  50.0        0\n",
      "1106   8.277364  5.268922  4.597323  5.016392  50.0        0\n",
      "1107   6.084638  2.649315  2.890624  4.203750  50.0        0\n",
      "1108  10.949044  4.594270  5.857479  5.621844  50.0        0\n",
      "\n",
      "[1108 rows x 6 columns]\n"
     ]
    }
   ],
   "source": [
    "# [H.5] DATASET HEALTHY, 50% LOAD\n",
    "load = 50\n",
    "\n",
    "# CREATE THE COLUMN FOR 'load'\n",
    "## Expressed as %\n",
    "h30hz50['load'] = load*np.ones((len(h30hz50.index),1))\n",
    "\n",
    "# CREATE THE COLUMN FOR 'failure'\n",
    "failure = 0\n",
    "failureArray = np.ones((len(h30hz50.index),1))\n",
    "h30hz50['failure'] = failureArray\n",
    "\n",
    "h30hz50_stdev= stdev_features (df = h30hz50, grouped= grouped, load= load, outcome= failure)\n",
    "#b30hz50_stdev.describe()"
   ]
  },
  {
   "cell_type": "markdown",
   "metadata": {
    "papermill": {
     "duration": 0.040834,
     "end_time": "2021-03-06T11:19:49.277939",
     "exception": false,
     "start_time": "2021-03-06T11:19:49.237105",
     "status": "completed"
    },
    "tags": []
   },
   "source": [
    "## Load= 60%"
   ]
  },
  {
   "cell_type": "code",
   "execution_count": 99,
   "metadata": {
    "execution": {
     "iopub.execute_input": "2021-03-06T11:19:49.366703Z",
     "iopub.status.busy": "2021-03-06T11:19:49.365674Z",
     "iopub.status.idle": "2021-03-06T11:19:50.820595Z",
     "shell.execute_reply": "2021-03-06T11:19:50.819942Z"
    },
    "papermill": {
     "duration": 1.501496,
     "end_time": "2021-03-06T11:19:50.820753",
     "exception": false,
     "start_time": "2021-03-06T11:19:49.319257",
     "status": "completed"
    },
    "tags": []
   },
   "outputs": [
    {
     "name": "stdout",
     "output_type": "stream",
     "text": [
      "nrows_raw= 95488    nrows= 954    Number of dropped rows of grouped=  88.0 %\n",
      "\n",
      "           a1        a2        a3        a4  load  failure\n",
      "1    4.811947  5.181737  3.748594  3.416334  60.0        1\n",
      "2    6.711825  4.934653  3.419606  3.703703  60.0        1\n",
      "3    3.080348  3.764844  2.368740  4.108480  60.0        1\n",
      "4    4.204862  3.860004  2.947117  3.736848  60.0        1\n",
      "5    4.514904  4.520084  4.345890  4.359357  60.0        1\n",
      "..        ...       ...       ...       ...   ...      ...\n",
      "950  5.430603  4.882351  4.281057  5.610203  60.0        1\n",
      "951  4.125759  4.726249  3.501445  4.679852  60.0        1\n",
      "952  4.948803  3.119529  2.444997  2.954189  60.0        1\n",
      "953  6.600326  4.403814  3.371044  5.253352  60.0        1\n",
      "954  4.623346  4.628486  3.426586  4.164611  60.0        1\n",
      "\n",
      "[954 rows x 6 columns]\n"
     ]
    }
   ],
   "source": [
    "# [H.6] DATASET BROKEN, 60% LOAD\n",
    "load = 60\n",
    "\n",
    "# CREATE THE COLUMN FOR 'load'\n",
    "## Expressed as %\n",
    "b30hz60['load'] = load*np.ones((len(b30hz60.index),1))\n",
    "\n",
    "# CREATE THE COLUMN FOR 'failure'\n",
    "##   0 is healthy\n",
    "##   1 is broken\n",
    "failure = 1\n",
    "failureArray = np.ones((len(b30hz60.index),1))\n",
    "b30hz60['failure'] = failureArray\n",
    "#b30hz60.describe()\n",
    "\n",
    "b30hz60_stdev= stdev_features (df = b30hz60, grouped= grouped, load= load, outcome= failure)\n",
    "#b30hz60_stdev.describe()"
   ]
  },
  {
   "cell_type": "code",
   "execution_count": 100,
   "metadata": {
    "execution": {
     "iopub.execute_input": "2021-03-06T11:19:50.911093Z",
     "iopub.status.busy": "2021-03-06T11:19:50.910374Z",
     "iopub.status.idle": "2021-03-06T11:19:52.440258Z",
     "shell.execute_reply": "2021-03-06T11:19:52.439719Z"
    },
    "papermill": {
     "duration": 1.577807,
     "end_time": "2021-03-06T11:19:52.440410",
     "exception": false,
     "start_time": "2021-03-06T11:19:50.862603",
     "status": "completed"
    },
    "tags": []
   },
   "outputs": [
    {
     "name": "stdout",
     "output_type": "stream",
     "text": [
      "nrows_raw= 99840    nrows= 998    Number of dropped rows of grouped=  40.0 %\n",
      "\n",
      "           a1        a2        a3        a4  load  failure\n",
      "1    9.662054  5.178468  5.608709  5.423264  60.0        0\n",
      "2    8.053081  4.092840  4.227479  4.570541  60.0        0\n",
      "3    8.419113  4.718729  5.113373  6.149591  60.0        0\n",
      "4    7.912768  4.251369  4.565497  5.937314  60.0        0\n",
      "5    5.139398  3.317271  2.707007  3.993794  60.0        0\n",
      "..        ...       ...       ...       ...   ...      ...\n",
      "994  8.780221  4.098674  5.118693  5.272129  60.0        0\n",
      "995  5.881403  4.178763  3.600356  4.426720  60.0        0\n",
      "996  6.174388  3.822195  3.892953  4.499992  60.0        0\n",
      "997  5.264629  3.853796  3.682252  3.649266  60.0        0\n",
      "998  7.209492  3.592217  4.021378  4.398803  60.0        0\n",
      "\n",
      "[998 rows x 6 columns]\n"
     ]
    }
   ],
   "source": [
    "# [H.6] DATASET HEALTHY, 60% LOAD\n",
    "\n",
    "# CREATE THE COLUMN FOR 'load'\n",
    "## Expressed as %\n",
    "h30hz60['load'] = load*np.ones((len(h30hz60.index),1))\n",
    "\n",
    "# CREATE THE COLUMN FOR 'failure'\n",
    "failure = 0\n",
    "failureArray = np.ones((len(h30hz60.index),1))\n",
    "h30hz60['failure'] = failureArray\n",
    "\n",
    "h30hz60_stdev= stdev_features (df = h30hz60, grouped= grouped, load= load, outcome= failure)\n",
    "#b30hz60_stdev.describe()"
   ]
  },
  {
   "cell_type": "markdown",
   "metadata": {
    "papermill": {
     "duration": 0.041882,
     "end_time": "2021-03-06T11:19:52.524090",
     "exception": false,
     "start_time": "2021-03-06T11:19:52.482208",
     "status": "completed"
    },
    "tags": []
   },
   "source": [
    "## Load= 70%"
   ]
  },
  {
   "cell_type": "code",
   "execution_count": 101,
   "metadata": {
    "execution": {
     "iopub.execute_input": "2021-03-06T11:19:52.615157Z",
     "iopub.status.busy": "2021-03-06T11:19:52.614459Z",
     "iopub.status.idle": "2021-03-06T11:19:54.127669Z",
     "shell.execute_reply": "2021-03-06T11:19:54.128322Z"
    },
    "papermill": {
     "duration": 1.562137,
     "end_time": "2021-03-06T11:19:54.128519",
     "exception": false,
     "start_time": "2021-03-06T11:19:52.566382",
     "status": "completed"
    },
    "tags": []
   },
   "outputs": [
    {
     "name": "stdout",
     "output_type": "stream",
     "text": [
      "nrows_raw= 100864    nrows= 1008    Number of dropped rows of grouped=  64.0 %\n",
      "\n",
      "            a1        a2        a3        a4  load  failure\n",
      "1     5.504502  4.755241  4.038341  4.872180  70.0        1\n",
      "2     4.020927  3.418679  2.876730  3.541099  70.0        1\n",
      "3     4.966444  4.985091  4.919601  4.821201  70.0        1\n",
      "4     3.839796  4.357150  3.499001  5.472565  70.0        1\n",
      "5     5.344993  3.773423  4.527043  4.786982  70.0        1\n",
      "...        ...       ...       ...       ...   ...      ...\n",
      "1004  4.707994  3.446857  3.049046  4.160162  70.0        1\n",
      "1005  4.644407  3.570378  3.767121  4.033199  70.0        1\n",
      "1006  4.771993  3.348961  3.991496  5.122567  70.0        1\n",
      "1007  4.858836  4.953074  4.528335  5.808374  70.0        1\n",
      "1008  4.491207  4.414897  3.920422  5.051450  70.0        1\n",
      "\n",
      "[1008 rows x 6 columns]\n"
     ]
    }
   ],
   "source": [
    "# [H.7] DATASET BROKEN, 70% LOAD\n",
    "load = 70\n",
    "\n",
    "# CREATE THE COLUMN FOR 'load'\n",
    "## Expressed as %\n",
    "b30hz70['load'] = load*np.ones((len(b30hz70.index),1))\n",
    "\n",
    "# CREATE THE COLUMN FOR 'failure'\n",
    "##   0 is healthy\n",
    "##   1 is broken\n",
    "failure = 1\n",
    "failureArray = np.ones((len(b30hz70.index),1))\n",
    "b30hz70['failure'] = failureArray\n",
    "#b30hz70.describe()\n",
    "\n",
    "b30hz70_stdev= stdev_features (df = b30hz70, grouped= grouped, load= load, outcome= failure)\n",
    "#b30hz70_stdev.describe()"
   ]
  },
  {
   "cell_type": "code",
   "execution_count": 102,
   "metadata": {
    "execution": {
     "iopub.execute_input": "2021-03-06T11:19:54.222267Z",
     "iopub.status.busy": "2021-03-06T11:19:54.221235Z",
     "iopub.status.idle": "2021-03-06T11:19:55.743732Z",
     "shell.execute_reply": "2021-03-06T11:19:55.743058Z"
    },
    "papermill": {
     "duration": 1.572511,
     "end_time": "2021-03-06T11:19:55.743877",
     "exception": false,
     "start_time": "2021-03-06T11:19:54.171366",
     "status": "completed"
    },
    "tags": []
   },
   "outputs": [
    {
     "name": "stdout",
     "output_type": "stream",
     "text": [
      "nrows_raw= 101376    nrows= 1013    Number of dropped rows of grouped=  76.0 %\n",
      "\n",
      "             a1        a2        a3        a4  load  failure\n",
      "1      8.809606  6.797120  4.815198  5.971550  70.0        0\n",
      "2      8.143851  4.210509  4.137510  5.496099  70.0        0\n",
      "3      6.601136  3.000749  3.608767  5.517379  70.0        0\n",
      "4      9.582499  4.519286  5.679526  5.656378  70.0        0\n",
      "5     10.201630  5.965807  6.589977  6.500685  70.0        0\n",
      "...         ...       ...       ...       ...   ...      ...\n",
      "1009   9.849732  3.755824  4.811686  5.507588  70.0        0\n",
      "1010   9.844470  4.370987  5.254200  5.599210  70.0        0\n",
      "1011   6.056313  4.141105  3.845646  5.137307  70.0        0\n",
      "1012   7.510356  4.243818  5.381351  5.542929  70.0        0\n",
      "1013   4.063881  3.056092  2.598164  2.683162  70.0        0\n",
      "\n",
      "[1013 rows x 6 columns]\n"
     ]
    }
   ],
   "source": [
    "# [H.7] DATASET HEALTHY, 70% LOAD\n",
    "load = 70\n",
    "\n",
    "# CREATE THE COLUMN FOR 'load'\n",
    "## Expressed as %\n",
    "h30hz70['load'] = load*np.ones((len(h30hz70.index),1))\n",
    "\n",
    "# CREATE THE COLUMN FOR 'failure'\n",
    "failure = 0\n",
    "failureArray = np.ones((len(h30hz70.index),1))\n",
    "h30hz70['failure'] = failureArray\n",
    "\n",
    "h30hz70_stdev= stdev_features (df = h30hz70, grouped= grouped, load= load, outcome= failure)\n",
    "#b30hz70_stdev.describe()"
   ]
  },
  {
   "cell_type": "markdown",
   "metadata": {
    "papermill": {
     "duration": 0.043835,
     "end_time": "2021-03-06T11:19:55.831109",
     "exception": false,
     "start_time": "2021-03-06T11:19:55.787274",
     "status": "completed"
    },
    "tags": []
   },
   "source": [
    "## Load= 80%"
   ]
  },
  {
   "cell_type": "code",
   "execution_count": 103,
   "metadata": {
    "execution": {
     "iopub.execute_input": "2021-03-06T11:19:55.924934Z",
     "iopub.status.busy": "2021-03-06T11:19:55.924231Z",
     "iopub.status.idle": "2021-03-06T11:19:57.578189Z",
     "shell.execute_reply": "2021-03-06T11:19:57.577617Z"
    },
    "papermill": {
     "duration": 1.703172,
     "end_time": "2021-03-06T11:19:57.578331",
     "exception": false,
     "start_time": "2021-03-06T11:19:55.875159",
     "status": "completed"
    },
    "tags": []
   },
   "outputs": [
    {
     "name": "stdout",
     "output_type": "stream",
     "text": [
      "nrows_raw= 110335    nrows= 1103    Number of dropped rows of grouped=  35.0 %\n",
      "\n",
      "            a1        a2        a3        a4  load  failure\n",
      "1     4.604528  4.032008  3.325304  4.587272  80.0        1\n",
      "2     4.752443  3.691163  3.288204  4.572145  80.0        1\n",
      "3     5.353396  3.995737  4.047903  4.478091  80.0        1\n",
      "4     3.594598  3.542739  3.912459  3.900166  80.0        1\n",
      "5     4.511902  3.750949  3.634543  3.355099  80.0        1\n",
      "...        ...       ...       ...       ...   ...      ...\n",
      "1099  6.387621  5.077033  5.442181  6.305278  80.0        1\n",
      "1100  4.036438  3.628521  4.247137  4.871524  80.0        1\n",
      "1101  4.405240  4.449070  4.601878  5.009687  80.0        1\n",
      "1102  6.117293  5.419937  4.851748  5.062017  80.0        1\n",
      "1103  3.379544  4.426726  4.008384  3.692929  80.0        1\n",
      "\n",
      "[1103 rows x 6 columns]\n"
     ]
    }
   ],
   "source": [
    "# [H.8] DATASET BROKEN, 80% LOAD\n",
    "load = 80\n",
    "\n",
    "# CREATE THE COLUMN FOR 'load'\n",
    "## Expressed as %\n",
    "b30hz80['load'] = load*np.ones((len(b30hz80.index),1))\n",
    "\n",
    "# CREATE THE COLUMN FOR 'failure'\n",
    "##   0 is healthy\n",
    "##   1 is broken\n",
    "failure = 1\n",
    "failureArray = np.ones((len(b30hz80.index),1))\n",
    "b30hz80['failure'] = failureArray\n",
    "#b30hz80.describe()\n",
    "\n",
    "b30hz80_stdev= stdev_features (df = b30hz80, grouped= grouped, load= load, outcome= failure)\n",
    "#b30hz80_stdev.describe()"
   ]
  },
  {
   "cell_type": "code",
   "execution_count": 104,
   "metadata": {
    "execution": {
     "iopub.execute_input": "2021-03-06T11:19:57.674318Z",
     "iopub.status.busy": "2021-03-06T11:19:57.673200Z",
     "iopub.status.idle": "2021-03-06T11:19:59.173628Z",
     "shell.execute_reply": "2021-03-06T11:19:59.172695Z"
    },
    "papermill": {
     "duration": 1.551017,
     "end_time": "2021-03-06T11:19:59.173791",
     "exception": false,
     "start_time": "2021-03-06T11:19:57.622774",
     "status": "completed"
    },
    "tags": []
   },
   "outputs": [
    {
     "name": "stdout",
     "output_type": "stream",
     "text": [
      "nrows_raw= 99840    nrows= 998    Number of dropped rows of grouped=  40.0 %\n",
      "\n",
      "            a1        a2        a3        a4  load  failure\n",
      "1    10.584338  4.187996  5.051522  5.462836  80.0        0\n",
      "2     9.772850  4.529453  5.290028  4.902815  80.0        0\n",
      "3     6.545985  4.877882  4.681777  4.848517  80.0        0\n",
      "4     6.666981  3.585890  4.649248  4.252030  80.0        0\n",
      "5     5.014805  3.276887  3.527651  3.860534  80.0        0\n",
      "..         ...       ...       ...       ...   ...      ...\n",
      "994  11.348938  4.673999  6.019079  6.130194  80.0        0\n",
      "995   8.013726  4.531021  4.454635  4.362063  80.0        0\n",
      "996   8.349673  5.129018  5.468724  5.316971  80.0        0\n",
      "997   8.788454  5.117833  5.363653  5.559049  80.0        0\n",
      "998   7.272175  4.049968  3.945067  5.454231  80.0        0\n",
      "\n",
      "[998 rows x 6 columns]\n"
     ]
    }
   ],
   "source": [
    "# [H.8] DATASET HEALTHY, 80% LOAD\n",
    "load = 80\n",
    "\n",
    "# CREATE THE COLUMN FOR 'load'\n",
    "## Expressed as %\n",
    "h30hz80['load'] = load*np.ones((len(h30hz80.index),1))\n",
    "\n",
    "# CREATE THE COLUMN FOR 'failure'\n",
    "failure = 0\n",
    "failureArray = np.ones((len(h30hz80.index),1))\n",
    "h30hz80['failure'] = failureArray\n",
    "\n",
    "h30hz80_stdev= stdev_features (df = h30hz80, grouped= grouped, load= load, outcome= failure)\n",
    "#b30hz80_stdev.describe()"
   ]
  },
  {
   "cell_type": "markdown",
   "metadata": {
    "papermill": {
     "duration": 0.052128,
     "end_time": "2021-03-06T11:19:59.271775",
     "exception": false,
     "start_time": "2021-03-06T11:19:59.219647",
     "status": "completed"
    },
    "tags": []
   },
   "source": [
    "## Load= 90%"
   ]
  },
  {
   "cell_type": "code",
   "execution_count": 105,
   "metadata": {
    "execution": {
     "iopub.execute_input": "2021-03-06T11:19:59.372550Z",
     "iopub.status.busy": "2021-03-06T11:19:59.370248Z",
     "iopub.status.idle": "2021-03-06T11:20:00.985565Z",
     "shell.execute_reply": "2021-03-06T11:20:00.986114Z"
    },
    "papermill": {
     "duration": 1.668535,
     "end_time": "2021-03-06T11:20:00.986299",
     "exception": false,
     "start_time": "2021-03-06T11:19:59.317764",
     "status": "completed"
    },
    "tags": []
   },
   "outputs": [
    {
     "name": "stdout",
     "output_type": "stream",
     "text": [
      "nrows_raw= 105728    nrows= 1057    Number of dropped rows of grouped=  28.000000000000004 %\n",
      "\n",
      "            a1        a2        a3        a4  load  failure\n",
      "1     4.577819  5.008496  3.802021  4.606855  90.0        1\n",
      "2     5.779057  5.023367  3.847596  4.602369  90.0        1\n",
      "3     4.327167  3.699797  2.975056  3.813657  90.0        1\n",
      "4     4.322838  4.146657  3.503560  4.101523  90.0        1\n",
      "5     3.880201  4.503873  3.660953  4.476469  90.0        1\n",
      "...        ...       ...       ...       ...   ...      ...\n",
      "1053  4.020584  4.213608  3.332272  4.147442  90.0        1\n",
      "1054  4.842131  6.242672  4.369814  5.759370  90.0        1\n",
      "1055  4.387001  4.183584  4.093012  5.853607  90.0        1\n",
      "1056  3.549780  3.318551  3.709936  5.245193  90.0        1\n",
      "1057  6.136139  5.357831  5.037464  5.913611  90.0        1\n",
      "\n",
      "[1057 rows x 6 columns]\n"
     ]
    }
   ],
   "source": [
    "# [H.9] DATASET BROKEN, 90% LOAD\n",
    "load = 90\n",
    "\n",
    "# CREATE THE COLUMN FOR 'load'\n",
    "## Expressed as %\n",
    "b30hz90['load'] = load*np.ones((len(b30hz90.index),1))\n",
    "\n",
    "# CREATE THE COLUMN FOR 'failure'\n",
    "##   0 is healthy\n",
    "##   1 is broken\n",
    "failure = 1\n",
    "failureArray = np.ones((len(b30hz90.index),1))\n",
    "b30hz90['failure'] = failureArray\n",
    "#b30hz90.describe()\n",
    "\n",
    "b30hz90_stdev= stdev_features (df = b30hz90, grouped= grouped, load= load, outcome= failure)\n",
    "#b30hz90_stdev.describe()"
   ]
  },
  {
   "cell_type": "code",
   "execution_count": 106,
   "metadata": {
    "execution": {
     "iopub.execute_input": "2021-03-06T11:20:01.085387Z",
     "iopub.status.busy": "2021-03-06T11:20:01.084733Z",
     "iopub.status.idle": "2021-03-06T11:20:02.738196Z",
     "shell.execute_reply": "2021-03-06T11:20:02.737285Z"
    },
    "papermill": {
     "duration": 1.705842,
     "end_time": "2021-03-06T11:20:02.738390",
     "exception": false,
     "start_time": "2021-03-06T11:20:01.032548",
     "status": "completed"
    },
    "tags": []
   },
   "outputs": [
    {
     "name": "stdout",
     "output_type": "stream",
     "text": [
      "nrows_raw= 106752    nrows= 1067    Number of dropped rows of grouped=  52.0 %\n",
      "\n",
      "             a1        a2        a3        a4  load  failure\n",
      "1      6.892605  4.455469  3.529246  3.843847  90.0        0\n",
      "2      6.635916  5.525528  4.228780  4.613783  90.0        0\n",
      "3      8.878290  3.566931  4.624252  5.475219  90.0        0\n",
      "4      5.777195  3.185480  3.725781  3.688400  90.0        0\n",
      "5      8.873675  4.151595  5.056517  4.586934  90.0        0\n",
      "...         ...       ...       ...       ...   ...      ...\n",
      "1063   9.357705  4.166855  5.627088  5.857498  90.0        0\n",
      "1064  11.716910  5.356187  6.068804  6.056807  90.0        0\n",
      "1065  10.526403  5.884372  5.455909  5.788827  90.0        0\n",
      "1066   9.508300  4.590048  5.310811  5.743670  90.0        0\n",
      "1067   6.881230  3.288403  4.177912  5.471742  90.0        0\n",
      "\n",
      "[1067 rows x 6 columns]\n"
     ]
    }
   ],
   "source": [
    "# [H.9] DATASET HEALTHY, 90% LOAD\n",
    "load = 90\n",
    "\n",
    "# CREATE THE COLUMN FOR 'load'\n",
    "## Expressed as %\n",
    "h30hz90['load'] = load*np.ones((len(h30hz90.index),1))\n",
    "\n",
    "# CREATE THE COLUMN FOR 'failure'\n",
    "failure = 0\n",
    "failureArray = np.ones((len(h30hz90.index),1))\n",
    "h30hz90['failure'] = failureArray\n",
    "\n",
    "h30hz90_stdev= stdev_features (df = h30hz90, grouped= grouped, load= load, outcome= failure)\n",
    "#b30hz90_stdev.describe()"
   ]
  },
  {
   "cell_type": "markdown",
   "metadata": {
    "papermill": {
     "duration": 0.047842,
     "end_time": "2021-03-06T11:20:02.833644",
     "exception": false,
     "start_time": "2021-03-06T11:20:02.785802",
     "status": "completed"
    },
    "tags": []
   },
   "source": [
    "# Compare stdev of acceleration traversing % load"
   ]
  },
  {
   "cell_type": "code",
   "execution_count": 107,
   "metadata": {
    "execution": {
     "iopub.execute_input": "2021-03-06T11:20:02.945156Z",
     "iopub.status.busy": "2021-03-06T11:20:02.944349Z",
     "iopub.status.idle": "2021-03-06T11:20:02.949471Z",
     "shell.execute_reply": "2021-03-06T11:20:02.949967Z"
    },
    "papermill": {
     "duration": 0.069271,
     "end_time": "2021-03-06T11:20:02.950137",
     "exception": false,
     "start_time": "2021-03-06T11:20:02.880866",
     "status": "completed"
    },
    "tags": []
   },
   "outputs": [
    {
     "name": "stdout",
     "output_type": "stream",
     "text": [
      "Load 0%\n",
      "-------\n",
      "Broken:\n",
      "          a1       a2        a3        a4\n",
      "0  3.455463  3.79576  3.017348  3.141501\n",
      "Healthy:\n",
      "          a1        a2        a3        a4\n",
      "0  5.644147  3.861692  3.151001  3.231797\n"
     ]
    }
   ],
   "source": [
    "print(\"Load 0%\")\n",
    "print(\"-------\")\n",
    "stdev_bhz0 = pd.DataFrame(b30hz0_stdev.iloc[:,:-2].mean()).transpose()\n",
    "stdev_hhz0 = pd.DataFrame(h30hz0_stdev.iloc[:,:-2].mean()).transpose()\n",
    "print(\"Broken:\\n\", stdev_bhz0)\n",
    "print(\"Healthy:\\n\", stdev_hhz0)"
   ]
  },
  {
   "cell_type": "code",
   "execution_count": 108,
   "metadata": {
    "execution": {
     "iopub.execute_input": "2021-03-06T11:20:03.060568Z",
     "iopub.status.busy": "2021-03-06T11:20:03.059772Z",
     "iopub.status.idle": "2021-03-06T11:20:03.064507Z",
     "shell.execute_reply": "2021-03-06T11:20:03.063782Z"
    },
    "papermill": {
     "duration": 0.066812,
     "end_time": "2021-03-06T11:20:03.064700",
     "exception": false,
     "start_time": "2021-03-06T11:20:02.997888",
     "status": "completed"
    },
    "tags": []
   },
   "outputs": [
    {
     "name": "stdout",
     "output_type": "stream",
     "text": [
      "Load 10%\n",
      "--------\n",
      "Broken:\n",
      "          a1        a2        a3        a4\n",
      "0  3.539759  3.855491  3.080835  3.236266\n",
      "Healthy:\n",
      "          a1        a2        a3        a4\n",
      "0  5.709179  3.920917  3.150714  3.329666\n"
     ]
    }
   ],
   "source": [
    "print(\"Load 10%\")\n",
    "print(\"--------\")\n",
    "stdev_bhz10 = pd.DataFrame(b30hz10_stdev.iloc[:,:-2].mean()).transpose()\n",
    "stdev_hhz10 = pd.DataFrame(h30hz10_stdev.iloc[:,:-2].mean()).transpose()\n",
    "print(\"Broken:\\n\", stdev_bhz10)\n",
    "print(\"Healthy:\\n\", stdev_hhz10)"
   ]
  },
  {
   "cell_type": "code",
   "execution_count": 109,
   "metadata": {
    "execution": {
     "iopub.execute_input": "2021-03-06T11:20:03.177100Z",
     "iopub.status.busy": "2021-03-06T11:20:03.176339Z",
     "iopub.status.idle": "2021-03-06T11:20:03.181196Z",
     "shell.execute_reply": "2021-03-06T11:20:03.180691Z"
    },
    "papermill": {
     "duration": 0.068321,
     "end_time": "2021-03-06T11:20:03.181369",
     "exception": false,
     "start_time": "2021-03-06T11:20:03.113048",
     "status": "completed"
    },
    "tags": []
   },
   "outputs": [
    {
     "name": "stdout",
     "output_type": "stream",
     "text": [
      "Load 20%\n",
      "--------\n",
      "Broken:\n",
      "          a1        a2        a3        a4\n",
      "0  3.798932  3.895602  3.328675  3.501287\n",
      "Healthy:\n",
      "          a1        a2        a3      a4\n",
      "0  5.986891  3.972294  3.341016  3.5123\n"
     ]
    }
   ],
   "source": [
    "print(\"Load 20%\")\n",
    "print(\"--------\")\n",
    "stdev_bhz20 = pd.DataFrame(b30hz20_stdev.iloc[:,:-2].mean()).transpose()\n",
    "stdev_hhz20 = pd.DataFrame(h30hz20_stdev.iloc[:,:-2].mean()).transpose()\n",
    "print(\"Broken:\\n\", stdev_bhz20)\n",
    "print(\"Healthy:\\n\", stdev_hhz20)"
   ]
  },
  {
   "cell_type": "code",
   "execution_count": 110,
   "metadata": {
    "execution": {
     "iopub.execute_input": "2021-03-06T11:20:03.285965Z",
     "iopub.status.busy": "2021-03-06T11:20:03.285290Z",
     "iopub.status.idle": "2021-03-06T11:20:03.299107Z",
     "shell.execute_reply": "2021-03-06T11:20:03.299599Z"
    },
    "papermill": {
     "duration": 0.069464,
     "end_time": "2021-03-06T11:20:03.299779",
     "exception": false,
     "start_time": "2021-03-06T11:20:03.230315",
     "status": "completed"
    },
    "tags": []
   },
   "outputs": [
    {
     "name": "stdout",
     "output_type": "stream",
     "text": [
      "Load 30%\n",
      "--------\n",
      "Broken:\n",
      "          a1        a2        a3        a4\n",
      "0  4.096956  3.950082  3.571447  3.912501\n",
      "Healthy:\n",
      "          a1        a2        a3        a4\n",
      "0  6.637082  4.066547  3.756139  3.956211\n"
     ]
    }
   ],
   "source": [
    "print(\"Load 30%\")\n",
    "print(\"--------\")\n",
    "stdev_bhz30 = pd.DataFrame(b30hz30_stdev.iloc[:,:-2].mean()).transpose()\n",
    "stdev_hhz30 = pd.DataFrame(h30hz30_stdev.iloc[:,:-2].mean()).transpose()\n",
    "print(\"Broken:\\n\", stdev_bhz30)\n",
    "print(\"Healthy:\\n\", stdev_hhz30)"
   ]
  },
  {
   "cell_type": "code",
   "execution_count": 111,
   "metadata": {
    "execution": {
     "iopub.execute_input": "2021-03-06T11:20:03.412172Z",
     "iopub.status.busy": "2021-03-06T11:20:03.411265Z",
     "iopub.status.idle": "2021-03-06T11:20:03.415128Z",
     "shell.execute_reply": "2021-03-06T11:20:03.415672Z"
    },
    "papermill": {
     "duration": 0.067222,
     "end_time": "2021-03-06T11:20:03.415852",
     "exception": false,
     "start_time": "2021-03-06T11:20:03.348630",
     "status": "completed"
    },
    "tags": []
   },
   "outputs": [
    {
     "name": "stdout",
     "output_type": "stream",
     "text": [
      "Load 40%\n",
      "--------\n",
      "Broken:\n",
      "          a1        a2        a3        a4\n",
      "0  4.408238  4.129305  3.700573  4.178785\n",
      "Healthy:\n",
      "       a1        a2        a3        a4\n",
      "0  7.196  4.295219  4.065573  4.381915\n"
     ]
    }
   ],
   "source": [
    "print(\"Load 40%\")\n",
    "print(\"--------\")\n",
    "stdev_bhz40 = pd.DataFrame(b30hz40_stdev.iloc[:,:-2].mean()).transpose()\n",
    "stdev_hhz40 = pd.DataFrame(h30hz40_stdev.iloc[:,:-2].mean()).transpose()\n",
    "print(\"Broken:\\n\", stdev_bhz40)\n",
    "print(\"Healthy:\\n\", stdev_hhz40)"
   ]
  },
  {
   "cell_type": "code",
   "execution_count": 112,
   "metadata": {
    "execution": {
     "iopub.execute_input": "2021-03-06T11:20:03.530111Z",
     "iopub.status.busy": "2021-03-06T11:20:03.521460Z",
     "iopub.status.idle": "2021-03-06T11:20:03.534746Z",
     "shell.execute_reply": "2021-03-06T11:20:03.535186Z"
    },
    "papermill": {
     "duration": 0.070261,
     "end_time": "2021-03-06T11:20:03.535365",
     "exception": false,
     "start_time": "2021-03-06T11:20:03.465104",
     "status": "completed"
    },
    "tags": []
   },
   "outputs": [
    {
     "name": "stdout",
     "output_type": "stream",
     "text": [
      "Load 50%\n",
      "--------\n",
      "Broken:\n",
      "        a1        a2        a3        a4\n",
      "0  4.6763  4.299412  3.836887  4.452099\n",
      "Healthy:\n",
      "         a1        a2       a3        a4\n",
      "0  7.26809  4.288789  4.17219  4.605306\n"
     ]
    }
   ],
   "source": [
    "print(\"Load 50%\")\n",
    "print(\"--------\")\n",
    "stdev_bhz50 = pd.DataFrame(b30hz50_stdev.iloc[:,:-2].mean()).transpose()\n",
    "stdev_hhz50 = pd.DataFrame(h30hz50_stdev.iloc[:,:-2].mean()).transpose()\n",
    "print(\"Broken:\\n\", stdev_bhz50)\n",
    "print(\"Healthy:\\n\", stdev_hhz50)"
   ]
  },
  {
   "cell_type": "code",
   "execution_count": 113,
   "metadata": {
    "execution": {
     "iopub.execute_input": "2021-03-06T11:20:03.648590Z",
     "iopub.status.busy": "2021-03-06T11:20:03.647832Z",
     "iopub.status.idle": "2021-03-06T11:20:03.652764Z",
     "shell.execute_reply": "2021-03-06T11:20:03.654272Z"
    },
    "papermill": {
     "duration": 0.069563,
     "end_time": "2021-03-06T11:20:03.654563",
     "exception": false,
     "start_time": "2021-03-06T11:20:03.585000",
     "status": "completed"
    },
    "tags": []
   },
   "outputs": [
    {
     "name": "stdout",
     "output_type": "stream",
     "text": [
      "Load 60%\n",
      "--------\n",
      "Broken:\n",
      "          a1        a2        a3        a4\n",
      "0  4.985021  4.547715  4.031132  4.784582\n",
      "Healthy:\n",
      "          a1        a2        a3        a4\n",
      "0  7.848711  4.475246  4.403844  5.008874\n"
     ]
    }
   ],
   "source": [
    "print(\"Load 60%\")\n",
    "print(\"--------\")\n",
    "stdev_bhz60 = pd.DataFrame(b30hz60_stdev.iloc[:,:-2].mean()).transpose()\n",
    "stdev_hhz60 = pd.DataFrame(h30hz60_stdev.iloc[:,:-2].mean()).transpose()\n",
    "print(\"Broken:\\n\", stdev_bhz60)\n",
    "print(\"Healthy:\\n\", stdev_hhz60)"
   ]
  },
  {
   "cell_type": "code",
   "execution_count": 114,
   "metadata": {
    "execution": {
     "iopub.execute_input": "2021-03-06T11:20:03.765332Z",
     "iopub.status.busy": "2021-03-06T11:20:03.764638Z",
     "iopub.status.idle": "2021-03-06T11:20:03.774030Z",
     "shell.execute_reply": "2021-03-06T11:20:03.774617Z"
    },
    "papermill": {
     "duration": 0.069294,
     "end_time": "2021-03-06T11:20:03.774797",
     "exception": false,
     "start_time": "2021-03-06T11:20:03.705503",
     "status": "completed"
    },
    "tags": []
   },
   "outputs": [
    {
     "name": "stdout",
     "output_type": "stream",
     "text": [
      "Load 70%\n",
      "--------\n",
      "Broken:\n",
      "          a1        a2        a3        a4\n",
      "0  5.174205  4.636795  4.080152  4.799017\n",
      "Healthy:\n",
      "          a1        a2       a3        a4\n",
      "0  7.974429  4.507776  4.52267  5.022316\n"
     ]
    }
   ],
   "source": [
    "print(\"Load 70%\")\n",
    "print(\"--------\")\n",
    "stdev_bhz70 = pd.DataFrame(b30hz70_stdev.iloc[:,:-2].mean()).transpose()\n",
    "stdev_hhz70 = pd.DataFrame(h30hz70_stdev.iloc[:,:-2].mean()).transpose()\n",
    "print(\"Broken:\\n\", stdev_bhz70)\n",
    "print(\"Healthy:\\n\", stdev_hhz70)"
   ]
  },
  {
   "cell_type": "code",
   "execution_count": 115,
   "metadata": {
    "execution": {
     "iopub.execute_input": "2021-03-06T11:20:03.879781Z",
     "iopub.status.busy": "2021-03-06T11:20:03.879102Z",
     "iopub.status.idle": "2021-03-06T11:20:03.895718Z",
     "shell.execute_reply": "2021-03-06T11:20:03.894627Z"
    },
    "papermill": {
     "duration": 0.069973,
     "end_time": "2021-03-06T11:20:03.895982",
     "exception": false,
     "start_time": "2021-03-06T11:20:03.826009",
     "status": "completed"
    },
    "tags": []
   },
   "outputs": [
    {
     "name": "stdout",
     "output_type": "stream",
     "text": [
      "Load 80%\n",
      "--------\n",
      "Broken:\n",
      "         a1        a2        a3        a4\n",
      "0  5.21662  4.834102  4.216963  4.951542\n",
      "Healthy:\n",
      "          a1        a2        a3        a4\n",
      "0  8.093019  4.514418  4.587332  5.056444\n"
     ]
    }
   ],
   "source": [
    "print(\"Load 80%\")\n",
    "print(\"--------\")\n",
    "stdev_bhz80 = pd.DataFrame(b30hz80_stdev.iloc[:,:-2].mean()).transpose()\n",
    "stdev_hhz80 = pd.DataFrame(h30hz80_stdev.iloc[:,:-2].mean()).transpose()\n",
    "print(\"Broken:\\n\", stdev_bhz80)\n",
    "print(\"Healthy:\\n\", stdev_hhz80)"
   ]
  },
  {
   "cell_type": "code",
   "execution_count": 116,
   "metadata": {
    "execution": {
     "iopub.execute_input": "2021-03-06T11:20:04.016197Z",
     "iopub.status.busy": "2021-03-06T11:20:04.015129Z",
     "iopub.status.idle": "2021-03-06T11:20:04.020391Z",
     "shell.execute_reply": "2021-03-06T11:20:04.019672Z"
    },
    "papermill": {
     "duration": 0.07147,
     "end_time": "2021-03-06T11:20:04.020602",
     "exception": false,
     "start_time": "2021-03-06T11:20:03.949132",
     "status": "completed"
    },
    "tags": []
   },
   "outputs": [
    {
     "name": "stdout",
     "output_type": "stream",
     "text": [
      "Load 90%\n",
      "--------\n",
      "Broken:\n",
      "          a1        a2       a3        a4\n",
      "0  5.157801  4.920361  4.17224  5.100914\n",
      "Healthy:\n",
      "          a1        a2       a3        a4\n",
      "0  8.057251  4.432825  4.57393  5.140485\n"
     ]
    }
   ],
   "source": [
    "print(\"Load 90%\")\n",
    "print(\"--------\")\n",
    "stdev_bhz90 = pd.DataFrame(b30hz90_stdev.iloc[:,:-2].mean()).transpose()\n",
    "stdev_hhz90 = pd.DataFrame(h30hz90_stdev.iloc[:,:-2].mean()).transpose()\n",
    "print(\"Broken:\\n\", stdev_bhz90)\n",
    "print(\"Healthy:\\n\", stdev_hhz90)"
   ]
  },
  {
   "cell_type": "markdown",
   "metadata": {
    "papermill": {
     "duration": 0.051176,
     "end_time": "2021-03-06T11:20:04.124588",
     "exception": false,
     "start_time": "2021-03-06T11:20:04.073412",
     "status": "completed"
    },
    "tags": []
   },
   "source": [
    "# Stacked BROKEN dataframe"
   ]
  },
  {
   "cell_type": "code",
   "execution_count": 117,
   "metadata": {
    "execution": {
     "iopub.execute_input": "2021-03-06T11:20:04.238707Z",
     "iopub.status.busy": "2021-03-06T11:20:04.234909Z",
     "iopub.status.idle": "2021-03-06T11:20:04.278822Z",
     "shell.execute_reply": "2021-03-06T11:20:04.279344Z"
    },
    "papermill": {
     "duration": 0.102064,
     "end_time": "2021-03-06T11:20:04.279541",
     "exception": false,
     "start_time": "2021-03-06T11:20:04.177477",
     "status": "completed"
    },
    "tags": []
   },
   "outputs": [
    {
     "data": {
      "text/html": [
       "<div>\n",
       "<style scoped>\n",
       "    .dataframe tbody tr th:only-of-type {\n",
       "        vertical-align: middle;\n",
       "    }\n",
       "\n",
       "    .dataframe tbody tr th {\n",
       "        vertical-align: top;\n",
       "    }\n",
       "\n",
       "    .dataframe thead th {\n",
       "        text-align: right;\n",
       "    }\n",
       "</style>\n",
       "<table border=\"1\" class=\"dataframe\">\n",
       "  <thead>\n",
       "    <tr style=\"text-align: right;\">\n",
       "      <th></th>\n",
       "      <th>a1</th>\n",
       "      <th>a2</th>\n",
       "      <th>a3</th>\n",
       "      <th>a4</th>\n",
       "      <th>load</th>\n",
       "      <th>failure</th>\n",
       "    </tr>\n",
       "  </thead>\n",
       "  <tbody>\n",
       "    <tr>\n",
       "      <th>count</th>\n",
       "      <td>10049.000000</td>\n",
       "      <td>10049.000000</td>\n",
       "      <td>10049.000000</td>\n",
       "      <td>10049.000000</td>\n",
       "      <td>10049.000000</td>\n",
       "      <td>10049.0</td>\n",
       "    </tr>\n",
       "    <tr>\n",
       "      <th>mean</th>\n",
       "      <td>4.455177</td>\n",
       "      <td>4.294107</td>\n",
       "      <td>3.706363</td>\n",
       "      <td>4.209203</td>\n",
       "      <td>45.478157</td>\n",
       "      <td>1.0</td>\n",
       "    </tr>\n",
       "    <tr>\n",
       "      <th>std</th>\n",
       "      <td>1.202618</td>\n",
       "      <td>0.969298</td>\n",
       "      <td>0.947515</td>\n",
       "      <td>1.205743</td>\n",
       "      <td>29.005078</td>\n",
       "      <td>0.0</td>\n",
       "    </tr>\n",
       "    <tr>\n",
       "      <th>min</th>\n",
       "      <td>1.468928</td>\n",
       "      <td>1.341292</td>\n",
       "      <td>0.990336</td>\n",
       "      <td>1.111679</td>\n",
       "      <td>0.000000</td>\n",
       "      <td>1.0</td>\n",
       "    </tr>\n",
       "    <tr>\n",
       "      <th>25%</th>\n",
       "      <td>3.595718</td>\n",
       "      <td>3.617281</td>\n",
       "      <td>3.020892</td>\n",
       "      <td>3.358830</td>\n",
       "      <td>20.000000</td>\n",
       "      <td>1.0</td>\n",
       "    </tr>\n",
       "    <tr>\n",
       "      <th>50%</th>\n",
       "      <td>4.399122</td>\n",
       "      <td>4.256609</td>\n",
       "      <td>3.646947</td>\n",
       "      <td>4.142668</td>\n",
       "      <td>50.000000</td>\n",
       "      <td>1.0</td>\n",
       "    </tr>\n",
       "    <tr>\n",
       "      <th>75%</th>\n",
       "      <td>5.221865</td>\n",
       "      <td>4.949478</td>\n",
       "      <td>4.354815</td>\n",
       "      <td>5.006999</td>\n",
       "      <td>70.000000</td>\n",
       "      <td>1.0</td>\n",
       "    </tr>\n",
       "    <tr>\n",
       "      <th>max</th>\n",
       "      <td>10.067158</td>\n",
       "      <td>8.071265</td>\n",
       "      <td>7.425122</td>\n",
       "      <td>10.022236</td>\n",
       "      <td>90.000000</td>\n",
       "      <td>1.0</td>\n",
       "    </tr>\n",
       "  </tbody>\n",
       "</table>\n",
       "</div>"
      ],
      "text/plain": [
       "                 a1            a2            a3            a4          load  \\\n",
       "count  10049.000000  10049.000000  10049.000000  10049.000000  10049.000000   \n",
       "mean       4.455177      4.294107      3.706363      4.209203     45.478157   \n",
       "std        1.202618      0.969298      0.947515      1.205743     29.005078   \n",
       "min        1.468928      1.341292      0.990336      1.111679      0.000000   \n",
       "25%        3.595718      3.617281      3.020892      3.358830     20.000000   \n",
       "50%        4.399122      4.256609      3.646947      4.142668     50.000000   \n",
       "75%        5.221865      4.949478      4.354815      5.006999     70.000000   \n",
       "max       10.067158      8.071265      7.425122     10.022236     90.000000   \n",
       "\n",
       "       failure  \n",
       "count  10049.0  \n",
       "mean       1.0  \n",
       "std        0.0  \n",
       "min        1.0  \n",
       "25%        1.0  \n",
       "50%        1.0  \n",
       "75%        1.0  \n",
       "max        1.0  "
      ]
     },
     "execution_count": 117,
     "metadata": {},
     "output_type": "execute_result"
    }
   ],
   "source": [
    "b30hz_stdev = pd.concat([b30hz0_stdev, b30hz10_stdev, b30hz20_stdev, b30hz30_stdev,b30hz40_stdev,b30hz50_stdev,b30hz60_stdev,b30hz70_stdev,b30hz80_stdev,b30hz90_stdev], axis=0)\n",
    "b30hz_stdev.describe()"
   ]
  },
  {
   "cell_type": "markdown",
   "metadata": {
    "papermill": {
     "duration": 0.052057,
     "end_time": "2021-03-06T11:20:04.383881",
     "exception": false,
     "start_time": "2021-03-06T11:20:04.331824",
     "status": "completed"
    },
    "tags": []
   },
   "source": [
    "## Export BROKEN dataframe as CSV"
   ]
  },
  {
   "cell_type": "code",
   "execution_count": 118,
   "metadata": {
    "execution": {
     "iopub.execute_input": "2021-03-06T11:20:04.493881Z",
     "iopub.status.busy": "2021-03-06T11:20:04.492935Z",
     "iopub.status.idle": "2021-03-06T11:20:04.604585Z",
     "shell.execute_reply": "2021-03-06T11:20:04.603914Z"
    },
    "papermill": {
     "duration": 0.16882,
     "end_time": "2021-03-06T11:20:04.604762",
     "exception": false,
     "start_time": "2021-03-06T11:20:04.435942",
     "status": "completed"
    },
    "tags": []
   },
   "outputs": [],
   "source": [
    "b30hz_stdev.to_csv(path + '/b30hz_stdev.csv', index = False)"
   ]
  },
  {
   "cell_type": "markdown",
   "metadata": {
    "papermill": {
     "duration": 0.052059,
     "end_time": "2021-03-06T11:20:04.710105",
     "exception": false,
     "start_time": "2021-03-06T11:20:04.658046",
     "status": "completed"
    },
    "tags": []
   },
   "source": [
    "# Stacked HEALTHY dataframe"
   ]
  },
  {
   "cell_type": "code",
   "execution_count": 119,
   "metadata": {
    "execution": {
     "iopub.execute_input": "2021-03-06T11:20:04.822243Z",
     "iopub.status.busy": "2021-03-06T11:20:04.821187Z",
     "iopub.status.idle": "2021-03-06T11:20:04.856199Z",
     "shell.execute_reply": "2021-03-06T11:20:04.855518Z"
    },
    "papermill": {
     "duration": 0.093001,
     "end_time": "2021-03-06T11:20:04.856346",
     "exception": false,
     "start_time": "2021-03-06T11:20:04.763345",
     "status": "completed"
    },
    "tags": []
   },
   "outputs": [
    {
     "data": {
      "text/html": [
       "<div>\n",
       "<style scoped>\n",
       "    .dataframe tbody tr th:only-of-type {\n",
       "        vertical-align: middle;\n",
       "    }\n",
       "\n",
       "    .dataframe tbody tr th {\n",
       "        vertical-align: top;\n",
       "    }\n",
       "\n",
       "    .dataframe thead th {\n",
       "        text-align: right;\n",
       "    }\n",
       "</style>\n",
       "<table border=\"1\" class=\"dataframe\">\n",
       "  <thead>\n",
       "    <tr style=\"text-align: right;\">\n",
       "      <th></th>\n",
       "      <th>a1</th>\n",
       "      <th>a2</th>\n",
       "      <th>a3</th>\n",
       "      <th>a4</th>\n",
       "      <th>load</th>\n",
       "      <th>failure</th>\n",
       "    </tr>\n",
       "  </thead>\n",
       "  <tbody>\n",
       "    <tr>\n",
       "      <th>count</th>\n",
       "      <td>10154.000000</td>\n",
       "      <td>10154.000000</td>\n",
       "      <td>10154.000000</td>\n",
       "      <td>10154.000000</td>\n",
       "      <td>10154.000000</td>\n",
       "      <td>10154.0</td>\n",
       "    </tr>\n",
       "    <tr>\n",
       "      <th>mean</th>\n",
       "      <td>7.064944</td>\n",
       "      <td>4.238840</td>\n",
       "      <td>3.987288</td>\n",
       "      <td>4.343511</td>\n",
       "      <td>45.809533</td>\n",
       "      <td>0.0</td>\n",
       "    </tr>\n",
       "    <tr>\n",
       "      <th>std</th>\n",
       "      <td>2.231626</td>\n",
       "      <td>1.326401</td>\n",
       "      <td>1.069945</td>\n",
       "      <td>1.247653</td>\n",
       "      <td>28.315587</td>\n",
       "      <td>0.0</td>\n",
       "    </tr>\n",
       "    <tr>\n",
       "      <th>min</th>\n",
       "      <td>1.802930</td>\n",
       "      <td>1.272738</td>\n",
       "      <td>1.022471</td>\n",
       "      <td>1.222780</td>\n",
       "      <td>0.000000</td>\n",
       "      <td>0.0</td>\n",
       "    </tr>\n",
       "    <tr>\n",
       "      <th>25%</th>\n",
       "      <td>5.496722</td>\n",
       "      <td>3.337468</td>\n",
       "      <td>3.226538</td>\n",
       "      <td>3.453185</td>\n",
       "      <td>20.000000</td>\n",
       "      <td>0.0</td>\n",
       "    </tr>\n",
       "    <tr>\n",
       "      <th>50%</th>\n",
       "      <td>6.856787</td>\n",
       "      <td>4.016475</td>\n",
       "      <td>3.916282</td>\n",
       "      <td>4.275365</td>\n",
       "      <td>50.000000</td>\n",
       "      <td>0.0</td>\n",
       "    </tr>\n",
       "    <tr>\n",
       "      <th>75%</th>\n",
       "      <td>8.419728</td>\n",
       "      <td>4.846186</td>\n",
       "      <td>4.689546</td>\n",
       "      <td>5.156541</td>\n",
       "      <td>70.000000</td>\n",
       "      <td>0.0</td>\n",
       "    </tr>\n",
       "    <tr>\n",
       "      <th>max</th>\n",
       "      <td>23.909199</td>\n",
       "      <td>10.984053</td>\n",
       "      <td>8.273939</td>\n",
       "      <td>10.609798</td>\n",
       "      <td>90.000000</td>\n",
       "      <td>0.0</td>\n",
       "    </tr>\n",
       "  </tbody>\n",
       "</table>\n",
       "</div>"
      ],
      "text/plain": [
       "                 a1            a2            a3            a4          load  \\\n",
       "count  10154.000000  10154.000000  10154.000000  10154.000000  10154.000000   \n",
       "mean       7.064944      4.238840      3.987288      4.343511     45.809533   \n",
       "std        2.231626      1.326401      1.069945      1.247653     28.315587   \n",
       "min        1.802930      1.272738      1.022471      1.222780      0.000000   \n",
       "25%        5.496722      3.337468      3.226538      3.453185     20.000000   \n",
       "50%        6.856787      4.016475      3.916282      4.275365     50.000000   \n",
       "75%        8.419728      4.846186      4.689546      5.156541     70.000000   \n",
       "max       23.909199     10.984053      8.273939     10.609798     90.000000   \n",
       "\n",
       "       failure  \n",
       "count  10154.0  \n",
       "mean       0.0  \n",
       "std        0.0  \n",
       "min        0.0  \n",
       "25%        0.0  \n",
       "50%        0.0  \n",
       "75%        0.0  \n",
       "max        0.0  "
      ]
     },
     "execution_count": 119,
     "metadata": {},
     "output_type": "execute_result"
    }
   ],
   "source": [
    "h30hz_stdev = pd.concat([h30hz0_stdev, h30hz10_stdev, h30hz20_stdev, h30hz30_stdev,h30hz40_stdev,h30hz50_stdev,h30hz60_stdev,h30hz70_stdev,h30hz80_stdev,h30hz90_stdev], axis=0)\n",
    "h30hz_stdev.describe()"
   ]
  },
  {
   "cell_type": "markdown",
   "metadata": {
    "papermill": {
     "duration": 0.052904,
     "end_time": "2021-03-06T11:20:04.963157",
     "exception": false,
     "start_time": "2021-03-06T11:20:04.910253",
     "status": "completed"
    },
    "tags": []
   },
   "source": [
    "## Export HEALTHY dataframe as CSV"
   ]
  },
  {
   "cell_type": "code",
   "execution_count": 120,
   "metadata": {
    "execution": {
     "iopub.execute_input": "2021-03-06T11:20:05.132117Z",
     "iopub.status.busy": "2021-03-06T11:20:05.124188Z",
     "iopub.status.idle": "2021-03-06T11:20:05.185040Z",
     "shell.execute_reply": "2021-03-06T11:20:05.184468Z"
    },
    "papermill": {
     "duration": 0.168913,
     "end_time": "2021-03-06T11:20:05.185197",
     "exception": false,
     "start_time": "2021-03-06T11:20:05.016284",
     "status": "completed"
    },
    "tags": []
   },
   "outputs": [],
   "source": [
    "h30hz_stdev.to_csv(path + '/h30hz_stdev.csv', index = False)"
   ]
  }
 ],
 "metadata": {
  "kernelspec": {
   "display_name": "Python 3",
   "language": "python",
   "name": "python3"
  },
  "language_info": {
   "codemirror_mode": {
    "name": "ipython",
    "version": 3
   },
   "file_extension": ".py",
   "mimetype": "text/x-python",
   "name": "python",
   "nbconvert_exporter": "python",
   "pygments_lexer": "ipython3",
   "version": "3.7.9"
  },
  "papermill": {
   "default_parameters": {},
   "duration": 45.626126,
   "end_time": "2021-03-06T11:20:05.849010",
   "environment_variables": {},
   "exception": null,
   "input_path": "__notebook__.ipynb",
   "output_path": "__notebook__.ipynb",
   "parameters": {},
   "start_time": "2021-03-06T11:19:20.222884",
   "version": "2.2.2"
  }
 },
 "nbformat": 4,
 "nbformat_minor": 4
}
