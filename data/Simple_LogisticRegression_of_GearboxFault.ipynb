{
 "cells": [
  {
   "cell_type": "code",
   "execution_count": 20,
   "metadata": {
    "_cell_guid": "b1076dfc-b9ad-4769-8c92-a6c4dae69d19",
    "_uuid": "8f2839f25d086af736a60e9eeb907d3b93b6e0e5",
    "execution": {
     "iopub.execute_input": "2021-02-28T09:47:32.987774Z",
     "iopub.status.busy": "2021-02-28T09:47:32.987038Z",
     "iopub.status.idle": "2021-02-28T09:47:33.913555Z",
     "shell.execute_reply": "2021-02-28T09:47:33.912888Z"
    },
    "papermill": {
     "duration": 0.953611,
     "end_time": "2021-02-28T09:47:33.913802",
     "exception": false,
     "start_time": "2021-02-28T09:47:32.960191",
     "status": "completed"
    },
    "tags": []
   },
   "outputs": [],
   "source": [
    "import numpy as np # linear algebra\n",
    "import pandas as pd # data processing, CSV file I/O (e.g. pd.read_csv)\n",
    "\n",
    "import matplotlib.pyplot as plt\n",
    "import matplotlib.gridspec as gridspec\n",
    "import seaborn as sns\n",
    "from pylab import rcParams\n",
    "\n",
    "#path = '/kaggle'\n",
    "#path = '/tmp/working/' # Standard kaggle container data path\n",
    "path = '/tmp/working/tmp/kaggle-gearbox-analysis/data' # \"./\"\n",
    "input_path = path + '/input/gearbox-fault-diagnosis-elaborated-datasets/stdev/'\n",
    "broken_dataset  = \"broken30hz_stdev_100.csv\"\n",
    "healthy_dataset = \"healthy30hz_stdev_100.csv\""
   ]
  },
  {
   "cell_type": "markdown",
   "metadata": {
    "papermill": {
     "duration": 0.017522,
     "end_time": "2021-02-28T09:47:33.951176",
     "exception": false,
     "start_time": "2021-02-28T09:47:33.933654",
     "status": "completed"
    },
    "tags": []
   },
   "source": [
    "# Exploring the dataset"
   ]
  },
  {
   "cell_type": "code",
   "execution_count": 22,
   "metadata": {
    "execution": {
     "iopub.execute_input": "2021-02-28T09:47:33.992937Z",
     "iopub.status.busy": "2021-02-28T09:47:33.992238Z",
     "iopub.status.idle": "2021-02-28T09:47:34.050804Z",
     "shell.execute_reply": "2021-02-28T09:47:34.051292Z"
    },
    "papermill": {
     "duration": 0.082369,
     "end_time": "2021-02-28T09:47:34.051463",
     "exception": false,
     "start_time": "2021-02-28T09:47:33.969094",
     "status": "completed"
    },
    "tags": []
   },
   "outputs": [
    {
     "data": {
      "text/html": [
       "<div>\n",
       "<style scoped>\n",
       "    .dataframe tbody tr th:only-of-type {\n",
       "        vertical-align: middle;\n",
       "    }\n",
       "\n",
       "    .dataframe tbody tr th {\n",
       "        vertical-align: top;\n",
       "    }\n",
       "\n",
       "    .dataframe thead th {\n",
       "        text-align: right;\n",
       "    }\n",
       "</style>\n",
       "<table border=\"1\" class=\"dataframe\">\n",
       "  <thead>\n",
       "    <tr style=\"text-align: right;\">\n",
       "      <th></th>\n",
       "      <th>a1</th>\n",
       "      <th>a2</th>\n",
       "      <th>a3</th>\n",
       "      <th>a4</th>\n",
       "      <th>load</th>\n",
       "      <th>failure</th>\n",
       "    </tr>\n",
       "  </thead>\n",
       "  <tbody>\n",
       "    <tr>\n",
       "      <th>count</th>\n",
       "      <td>10154.000000</td>\n",
       "      <td>10154.000000</td>\n",
       "      <td>10154.000000</td>\n",
       "      <td>10154.000000</td>\n",
       "      <td>10154.000000</td>\n",
       "      <td>10154.0</td>\n",
       "    </tr>\n",
       "    <tr>\n",
       "      <th>mean</th>\n",
       "      <td>7.064944</td>\n",
       "      <td>4.238840</td>\n",
       "      <td>3.987288</td>\n",
       "      <td>4.343511</td>\n",
       "      <td>45.809533</td>\n",
       "      <td>0.0</td>\n",
       "    </tr>\n",
       "    <tr>\n",
       "      <th>std</th>\n",
       "      <td>2.231626</td>\n",
       "      <td>1.326401</td>\n",
       "      <td>1.069945</td>\n",
       "      <td>1.247653</td>\n",
       "      <td>28.315587</td>\n",
       "      <td>0.0</td>\n",
       "    </tr>\n",
       "    <tr>\n",
       "      <th>min</th>\n",
       "      <td>1.802930</td>\n",
       "      <td>1.272738</td>\n",
       "      <td>1.022471</td>\n",
       "      <td>1.222780</td>\n",
       "      <td>0.000000</td>\n",
       "      <td>0.0</td>\n",
       "    </tr>\n",
       "    <tr>\n",
       "      <th>25%</th>\n",
       "      <td>5.496722</td>\n",
       "      <td>3.337468</td>\n",
       "      <td>3.226538</td>\n",
       "      <td>3.453185</td>\n",
       "      <td>20.000000</td>\n",
       "      <td>0.0</td>\n",
       "    </tr>\n",
       "    <tr>\n",
       "      <th>50%</th>\n",
       "      <td>6.856787</td>\n",
       "      <td>4.016475</td>\n",
       "      <td>3.916282</td>\n",
       "      <td>4.275365</td>\n",
       "      <td>50.000000</td>\n",
       "      <td>0.0</td>\n",
       "    </tr>\n",
       "    <tr>\n",
       "      <th>75%</th>\n",
       "      <td>8.419728</td>\n",
       "      <td>4.846186</td>\n",
       "      <td>4.689546</td>\n",
       "      <td>5.156541</td>\n",
       "      <td>70.000000</td>\n",
       "      <td>0.0</td>\n",
       "    </tr>\n",
       "    <tr>\n",
       "      <th>max</th>\n",
       "      <td>23.909199</td>\n",
       "      <td>10.984053</td>\n",
       "      <td>8.273939</td>\n",
       "      <td>10.609798</td>\n",
       "      <td>90.000000</td>\n",
       "      <td>0.0</td>\n",
       "    </tr>\n",
       "  </tbody>\n",
       "</table>\n",
       "</div>"
      ],
      "text/plain": [
       "                 a1            a2            a3            a4          load  \\\n",
       "count  10154.000000  10154.000000  10154.000000  10154.000000  10154.000000   \n",
       "mean       7.064944      4.238840      3.987288      4.343511     45.809533   \n",
       "std        2.231626      1.326401      1.069945      1.247653     28.315587   \n",
       "min        1.802930      1.272738      1.022471      1.222780      0.000000   \n",
       "25%        5.496722      3.337468      3.226538      3.453185     20.000000   \n",
       "50%        6.856787      4.016475      3.916282      4.275365     50.000000   \n",
       "75%        8.419728      4.846186      4.689546      5.156541     70.000000   \n",
       "max       23.909199     10.984053      8.273939     10.609798     90.000000   \n",
       "\n",
       "       failure  \n",
       "count  10154.0  \n",
       "mean       0.0  \n",
       "std        0.0  \n",
       "min        0.0  \n",
       "25%        0.0  \n",
       "50%        0.0  \n",
       "75%        0.0  \n",
       "max        0.0  "
      ]
     },
     "execution_count": 22,
     "metadata": {},
     "output_type": "execute_result"
    }
   ],
   "source": [
    "# IMPORT DATASETS\n",
    "healthyDataset = pd.read_csv(input_path + healthy_dataset)\n",
    "healthyDataset.describe()"
   ]
  },
  {
   "cell_type": "code",
   "execution_count": 23,
   "metadata": {
    "execution": {
     "iopub.execute_input": "2021-02-28T09:47:34.092733Z",
     "iopub.status.busy": "2021-02-28T09:47:34.091739Z",
     "iopub.status.idle": "2021-02-28T09:47:34.129659Z",
     "shell.execute_reply": "2021-02-28T09:47:34.130365Z"
    },
    "papermill": {
     "duration": 0.06044,
     "end_time": "2021-02-28T09:47:34.130560",
     "exception": false,
     "start_time": "2021-02-28T09:47:34.070120",
     "status": "completed"
    },
    "tags": []
   },
   "outputs": [
    {
     "data": {
      "text/html": [
       "<div>\n",
       "<style scoped>\n",
       "    .dataframe tbody tr th:only-of-type {\n",
       "        vertical-align: middle;\n",
       "    }\n",
       "\n",
       "    .dataframe tbody tr th {\n",
       "        vertical-align: top;\n",
       "    }\n",
       "\n",
       "    .dataframe thead th {\n",
       "        text-align: right;\n",
       "    }\n",
       "</style>\n",
       "<table border=\"1\" class=\"dataframe\">\n",
       "  <thead>\n",
       "    <tr style=\"text-align: right;\">\n",
       "      <th></th>\n",
       "      <th>a1</th>\n",
       "      <th>a2</th>\n",
       "      <th>a3</th>\n",
       "      <th>a4</th>\n",
       "      <th>load</th>\n",
       "      <th>failure</th>\n",
       "    </tr>\n",
       "  </thead>\n",
       "  <tbody>\n",
       "    <tr>\n",
       "      <th>count</th>\n",
       "      <td>10049.000000</td>\n",
       "      <td>10049.000000</td>\n",
       "      <td>10049.000000</td>\n",
       "      <td>10049.000000</td>\n",
       "      <td>10049.000000</td>\n",
       "      <td>10049.0</td>\n",
       "    </tr>\n",
       "    <tr>\n",
       "      <th>mean</th>\n",
       "      <td>4.455177</td>\n",
       "      <td>4.294107</td>\n",
       "      <td>3.706363</td>\n",
       "      <td>4.209203</td>\n",
       "      <td>45.478157</td>\n",
       "      <td>1.0</td>\n",
       "    </tr>\n",
       "    <tr>\n",
       "      <th>std</th>\n",
       "      <td>1.202618</td>\n",
       "      <td>0.969298</td>\n",
       "      <td>0.947515</td>\n",
       "      <td>1.205743</td>\n",
       "      <td>29.005078</td>\n",
       "      <td>0.0</td>\n",
       "    </tr>\n",
       "    <tr>\n",
       "      <th>min</th>\n",
       "      <td>1.468928</td>\n",
       "      <td>1.341292</td>\n",
       "      <td>0.990336</td>\n",
       "      <td>1.111679</td>\n",
       "      <td>0.000000</td>\n",
       "      <td>1.0</td>\n",
       "    </tr>\n",
       "    <tr>\n",
       "      <th>25%</th>\n",
       "      <td>3.595718</td>\n",
       "      <td>3.617281</td>\n",
       "      <td>3.020892</td>\n",
       "      <td>3.358830</td>\n",
       "      <td>20.000000</td>\n",
       "      <td>1.0</td>\n",
       "    </tr>\n",
       "    <tr>\n",
       "      <th>50%</th>\n",
       "      <td>4.399122</td>\n",
       "      <td>4.256609</td>\n",
       "      <td>3.646947</td>\n",
       "      <td>4.142668</td>\n",
       "      <td>50.000000</td>\n",
       "      <td>1.0</td>\n",
       "    </tr>\n",
       "    <tr>\n",
       "      <th>75%</th>\n",
       "      <td>5.221865</td>\n",
       "      <td>4.949478</td>\n",
       "      <td>4.354815</td>\n",
       "      <td>5.006999</td>\n",
       "      <td>70.000000</td>\n",
       "      <td>1.0</td>\n",
       "    </tr>\n",
       "    <tr>\n",
       "      <th>max</th>\n",
       "      <td>10.067158</td>\n",
       "      <td>8.071265</td>\n",
       "      <td>7.425122</td>\n",
       "      <td>10.022236</td>\n",
       "      <td>90.000000</td>\n",
       "      <td>1.0</td>\n",
       "    </tr>\n",
       "  </tbody>\n",
       "</table>\n",
       "</div>"
      ],
      "text/plain": [
       "                 a1            a2            a3            a4          load  \\\n",
       "count  10049.000000  10049.000000  10049.000000  10049.000000  10049.000000   \n",
       "mean       4.455177      4.294107      3.706363      4.209203     45.478157   \n",
       "std        1.202618      0.969298      0.947515      1.205743     29.005078   \n",
       "min        1.468928      1.341292      0.990336      1.111679      0.000000   \n",
       "25%        3.595718      3.617281      3.020892      3.358830     20.000000   \n",
       "50%        4.399122      4.256609      3.646947      4.142668     50.000000   \n",
       "75%        5.221865      4.949478      4.354815      5.006999     70.000000   \n",
       "max       10.067158      8.071265      7.425122     10.022236     90.000000   \n",
       "\n",
       "       failure  \n",
       "count  10049.0  \n",
       "mean       1.0  \n",
       "std        0.0  \n",
       "min        1.0  \n",
       "25%        1.0  \n",
       "50%        1.0  \n",
       "75%        1.0  \n",
       "max        1.0  "
      ]
     },
     "execution_count": 23,
     "metadata": {},
     "output_type": "execute_result"
    }
   ],
   "source": [
    "brokenDataset = pd.read_csv(input_path + broken_dataset)\n",
    "brokenDataset.describe()"
   ]
  },
  {
   "cell_type": "markdown",
   "metadata": {
    "papermill": {
     "duration": 0.019204,
     "end_time": "2021-02-28T09:47:34.169308",
     "exception": false,
     "start_time": "2021-02-28T09:47:34.150104",
     "status": "completed"
    },
    "tags": []
   },
   "source": [
    "## Join healthy & broken datasets in a single dataframe"
   ]
  },
  {
   "cell_type": "code",
   "execution_count": null,
   "metadata": {
    "execution": {
     "iopub.execute_input": "2021-02-28T09:47:34.212904Z",
     "iopub.status.busy": "2021-02-28T09:47:34.212186Z",
     "iopub.status.idle": "2021-02-28T09:47:34.240713Z",
     "shell.execute_reply": "2021-02-28T09:47:34.241237Z"
    },
    "papermill": {
     "duration": 0.052646,
     "end_time": "2021-02-28T09:47:34.241411",
     "exception": false,
     "start_time": "2021-02-28T09:47:34.188765",
     "status": "completed"
    },
    "scrolled": false,
    "tags": []
   },
   "outputs": [],
   "source": [
    "dataset = pd.concat([healthyDataset, brokenDataset], axis=0)\n",
    "dataset.describe()"
   ]
  },
  {
   "cell_type": "code",
   "execution_count": null,
   "metadata": {},
   "outputs": [],
   "source": [
    "plt.figure(figsize=(15,28*8))\n",
    "gs = gridspec.GridSpec(28, 1)\n",
    "for i, cn in enumerate(dataset[['a1']]):\n",
    "    ax = plt.subplot(gs[i])\n",
    "    sns.distplot(dataset[cn][dataset.failure == 1], bins=50)\n",
    "    sns.distplot(dataset[cn][dataset.failure == 0], bins=50)\n",
    "    ax.set_xlabel('')\n",
    "    plt.legend(['broken', 'healthy'])\n",
    "    ax.set_title('histogram for ' + str(cn))\n",
    "plt.show()"
   ]
  },
  {
   "cell_type": "markdown",
   "metadata": {
    "papermill": {
     "duration": 0.033969,
     "end_time": "2021-02-28T09:47:40.033790",
     "exception": false,
     "start_time": "2021-02-28T09:47:39.999821",
     "status": "completed"
    },
    "tags": []
   },
   "source": [
    "## Correlation matrix"
   ]
  },
  {
   "cell_type": "code",
   "execution_count": null,
   "metadata": {
    "execution": {
     "iopub.execute_input": "2021-02-28T09:47:40.110650Z",
     "iopub.status.busy": "2021-02-28T09:47:40.109942Z",
     "iopub.status.idle": "2021-02-28T09:47:40.578630Z",
     "shell.execute_reply": "2021-02-28T09:47:40.579141Z"
    },
    "papermill": {
     "duration": 0.51093,
     "end_time": "2021-02-28T09:47:40.579321",
     "exception": false,
     "start_time": "2021-02-28T09:47:40.068391",
     "status": "completed"
    },
    "tags": []
   },
   "outputs": [],
   "source": [
    "rcParams['figure.figsize'] = 15, 8\n",
    "columns = ['failure','a1', 'a2', 'a3', 'a4', 'load']\n",
    "sns.heatmap(dataset[columns].corr(),annot=True,cmap='RdYlGn')\n",
    "fig=plt.gcf()\n",
    "plt.show()"
   ]
  },
  {
   "cell_type": "markdown",
   "metadata": {
    "papermill": {
     "duration": 0.036306,
     "end_time": "2021-02-28T09:47:40.653373",
     "exception": false,
     "start_time": "2021-02-28T09:47:40.617067",
     "status": "completed"
    },
    "tags": []
   },
   "source": [
    "# Logistic regression"
   ]
  },
  {
   "cell_type": "code",
   "execution_count": null,
   "metadata": {
    "execution": {
     "iopub.execute_input": "2021-02-28T09:47:41.114812Z",
     "iopub.status.busy": "2021-02-28T09:47:41.113841Z",
     "iopub.status.idle": "2021-02-28T09:47:41.117175Z",
     "shell.execute_reply": "2021-02-28T09:47:41.116507Z"
    },
    "papermill": {
     "duration": 0.053929,
     "end_time": "2021-02-28T09:47:41.117318",
     "exception": false,
     "start_time": "2021-02-28T09:47:41.063389",
     "status": "completed"
    },
    "tags": []
   },
   "outputs": [],
   "source": [
    "# Predictor variable (features)\n",
    "columns = ['a1', 'a2', 'a3', 'a4', 'load']\n",
    "X = dataset[columns]\n",
    "# Target variable: Failure (boolean)\n",
    "#y = dataset.iloc[:,-1]\n",
    "y = dataset[['failure']]"
   ]
  },
  {
   "cell_type": "code",
   "execution_count": null,
   "metadata": {
    "execution": {
     "iopub.execute_input": "2021-02-28T09:47:41.588942Z",
     "iopub.status.busy": "2021-02-28T09:47:41.587844Z",
     "iopub.status.idle": "2021-02-28T09:47:41.724288Z",
     "shell.execute_reply": "2021-02-28T09:47:41.725872Z"
    },
    "papermill": {
     "duration": 0.182038,
     "end_time": "2021-02-28T09:47:41.726368",
     "exception": false,
     "start_time": "2021-02-28T09:47:41.544330",
     "status": "completed"
    },
    "tags": []
   },
   "outputs": [],
   "source": [
    "# Split the dataset: 80% train, 20% test\n",
    "from sklearn.model_selection import train_test_split\n",
    "X_train,X_test,y_train,y_test = train_test_split(X,y,test_size=0.2,random_state=0)\n",
    "\n",
    "# Logistic regression classifier\n",
    "from sklearn.linear_model import LogisticRegression\n",
    "\n",
    "# Setup the model\n",
    "logis = LogisticRegression(max_iter=1000)\n",
    "\n",
    "# Train the model\n",
    "logis.fit(X_train,y_train)\n",
    "\n",
    "# Predict Failrure for the test set\n",
    "y_pred = logis.predict(X_test)\n",
    "print(\"Prediction for the test data (first 10 rows):\", y_pred[:10])\n",
    "print(X_test.iloc[:10,:])"
   ]
  },
  {
   "cell_type": "markdown",
   "metadata": {
    "papermill": {
     "duration": 0.039637,
     "end_time": "2021-02-28T09:47:42.083369",
     "exception": false,
     "start_time": "2021-02-28T09:47:42.043732",
     "status": "completed"
    },
    "tags": []
   },
   "source": [
    "## Confusion matrix"
   ]
  },
  {
   "cell_type": "code",
   "execution_count": null,
   "metadata": {
    "execution": {
     "iopub.execute_input": "2021-02-28T09:47:42.171017Z",
     "iopub.status.busy": "2021-02-28T09:47:42.170294Z",
     "iopub.status.idle": "2021-02-28T09:47:42.179472Z",
     "shell.execute_reply": "2021-02-28T09:47:42.178776Z"
    },
    "papermill": {
     "duration": 0.055493,
     "end_time": "2021-02-28T09:47:42.179647",
     "exception": false,
     "start_time": "2021-02-28T09:47:42.124154",
     "status": "completed"
    },
    "tags": []
   },
   "outputs": [],
   "source": [
    "from sklearn.metrics import confusion_matrix\n",
    "cm = confusion_matrix(y_pred,y_test)\n",
    "cm"
   ]
  },
  {
   "cell_type": "code",
   "execution_count": null,
   "metadata": {
    "execution": {
     "iopub.execute_input": "2021-02-28T09:47:42.274061Z",
     "iopub.status.busy": "2021-02-28T09:47:42.272893Z",
     "iopub.status.idle": "2021-02-28T09:47:42.278269Z",
     "shell.execute_reply": "2021-02-28T09:47:42.278812Z"
    },
    "papermill": {
     "duration": 0.056053,
     "end_time": "2021-02-28T09:47:42.279006",
     "exception": false,
     "start_time": "2021-02-28T09:47:42.222953",
     "status": "completed"
    },
    "tags": []
   },
   "outputs": [],
   "source": [
    "# .score returns the mean accuracy on the given test data and labels\n",
    "# https://scikit-learn.org/stable/modules/generated/sklearn.linear_model.LogisticRegression.html\n",
    "print( logis.score(X_test,y_test) , logis.score(X_train,y_train) )"
   ]
  },
  {
   "cell_type": "markdown",
   "metadata": {
    "papermill": {
     "duration": 0.041048,
     "end_time": "2021-02-28T09:47:42.360970",
     "exception": false,
     "start_time": "2021-02-28T09:47:42.319922",
     "status": "completed"
    },
    "tags": []
   },
   "source": [
    "## Classification report"
   ]
  },
  {
   "cell_type": "code",
   "execution_count": null,
   "metadata": {
    "execution": {
     "iopub.execute_input": "2021-02-28T09:47:42.447807Z",
     "iopub.status.busy": "2021-02-28T09:47:42.447058Z",
     "iopub.status.idle": "2021-02-28T09:47:42.457310Z",
     "shell.execute_reply": "2021-02-28T09:47:42.457825Z"
    },
    "papermill": {
     "duration": 0.056842,
     "end_time": "2021-02-28T09:47:42.458044",
     "exception": false,
     "start_time": "2021-02-28T09:47:42.401202",
     "status": "completed"
    },
    "tags": []
   },
   "outputs": [],
   "source": [
    "from sklearn.metrics import classification_report\n",
    "report = classification_report(y_test,y_pred)\n",
    "print(report)"
   ]
  },
  {
   "cell_type": "markdown",
   "metadata": {
    "papermill": {
     "duration": 0.041784,
     "end_time": "2021-02-28T09:47:42.540783",
     "exception": false,
     "start_time": "2021-02-28T09:47:42.498999",
     "status": "completed"
    },
    "tags": []
   },
   "source": [
    "## ROC curve"
   ]
  },
  {
   "cell_type": "code",
   "execution_count": null,
   "metadata": {},
   "outputs": [],
   "source": [
    "# For the ROC curve we need not only the predicted class ('Outcome'), but also the scores on what the predictions are based\n",
    "# * if threshold 0\n",
    "#  ** predict>0 => Outcome=1\n",
    "#  ** predict<0 => Outcome=0 \n",
    "#  - Remember that predictions were calculated with METHOD .predict(X_test)\n",
    "#  - Now we also have to include METHOD .decision_function(X_test)\n",
    "y_pred_score = logis.decision_function(X_test)"
   ]
  },
  {
   "cell_type": "code",
   "execution_count": null,
   "metadata": {},
   "outputs": [],
   "source": [
    "from sklearn.metrics import confusion_matrix, classification_report, roc_curve, roc_auc_score, auc\n",
    "\n",
    "# If using the test set (X_test, y_test)\n",
    "fpr,tpr,threshold= roc_curve(y_test, y_pred_score)"
   ]
  },
  {
   "cell_type": "code",
   "execution_count": null,
   "metadata": {
    "scrolled": true
   },
   "outputs": [],
   "source": [
    "# Area Under Curve\n",
    "lr_auc = auc(fpr, tpr)\n",
    "print(\"AUC=\", lr_auc)"
   ]
  },
  {
   "cell_type": "code",
   "execution_count": null,
   "metadata": {},
   "outputs": [],
   "source": [
    "# This default size comes from above\n",
    "#rcParams['figure.figsize'] = 12, 8\n",
    "\n",
    "plt.figure(figsize = (8,8), dpi=100)\n",
    "\n",
    "plt.plot(fpr, tpr, color='red', linestyle='-', label = \"Logistic Regression (auc  = %0.3f)\"%lr_auc)\n",
    "plt.plot([0,1],[0,1],color='blue',linestyle='--')\n",
    "\n",
    "plt.xlabel('False Positive Rate (1-specificity)')\n",
    "plt.ylabel('True Positive Rate (sensitivity)')\n",
    "\n",
    "plt.legend()\n",
    "\n",
    "plt.show()"
   ]
  }
 ],
 "metadata": {
  "kernelspec": {
   "display_name": "Python 3",
   "language": "python",
   "name": "python3"
  },
  "language_info": {
   "codemirror_mode": {
    "name": "ipython",
    "version": 3
   },
   "file_extension": ".py",
   "mimetype": "text/x-python",
   "name": "python",
   "nbconvert_exporter": "python",
   "pygments_lexer": "ipython3",
   "version": "3.7.9"
  },
  "papermill": {
   "default_parameters": {},
   "duration": 17.964349,
   "end_time": "2021-02-28T09:47:44.727128",
   "environment_variables": {},
   "exception": null,
   "input_path": "__notebook__.ipynb",
   "output_path": "__notebook__.ipynb",
   "parameters": {},
   "start_time": "2021-02-28T09:47:26.762779",
   "version": "2.2.2"
  }
 },
 "nbformat": 4,
 "nbformat_minor": 4
}
