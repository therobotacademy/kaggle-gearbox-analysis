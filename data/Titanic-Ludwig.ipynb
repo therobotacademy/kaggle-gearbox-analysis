{
 "cells": [
  {
   "cell_type": "code",
   "execution_count": 73,
   "metadata": {},
   "outputs": [],
   "source": [
    "# New python modules are bundled in requirements.ipynb\n",
    "#!pip install ludwig"
   ]
  },
  {
   "cell_type": "code",
   "execution_count": 74,
   "metadata": {
    "_cell_guid": "b1076dfc-b9ad-4769-8c92-a6c4dae69d19",
    "_uuid": "8f2839f25d086af736a60e9eeb907d3b93b6e0e5",
    "execution": {
     "iopub.execute_input": "2021-03-04T08:37:28.132378Z",
     "iopub.status.busy": "2021-03-04T08:37:28.131678Z",
     "iopub.status.idle": "2021-03-04T08:37:28.143691Z",
     "shell.execute_reply": "2021-03-04T08:37:28.142846Z"
    },
    "papermill": {
     "duration": 0.028644,
     "end_time": "2021-03-04T08:37:28.143925",
     "exception": false,
     "start_time": "2021-03-04T08:37:28.115281",
     "status": "completed"
    },
    "tags": []
   },
   "outputs": [
    {
     "name": "stdout",
     "output_type": "stream",
     "text": [
      "Current path: /tmp/working\n"
     ]
    }
   ],
   "source": [
    "import numpy as np # linear algebra\n",
    "import pandas as pd # data processing, CSV file I/O (e.g. pd.read_csv)\n",
    "\n",
    "import os\n",
    "for dirname, _, filenames in os.walk('/kaggle/input'):\n",
    "    for filename in filenames:\n",
    "        print(os.path.join(dirname, filename))\n",
    "        \n",
    "print('Current path: ' + os.getcwd())"
   ]
  },
  {
   "cell_type": "code",
   "execution_count": 75,
   "metadata": {
    "execution": {
     "iopub.execute_input": "2021-03-04T08:37:28.165500Z",
     "iopub.status.busy": "2021-03-04T08:37:28.164787Z",
     "iopub.status.idle": "2021-03-04T08:37:28.189471Z",
     "shell.execute_reply": "2021-03-04T08:37:28.188753Z"
    },
    "papermill": {
     "duration": 0.037177,
     "end_time": "2021-03-04T08:37:28.189619",
     "exception": false,
     "start_time": "2021-03-04T08:37:28.152442",
     "status": "completed"
    },
    "tags": []
   },
   "outputs": [],
   "source": [
    "dataset = pd.read_csv('./input/titanic/train.csv', index_col=False)\n",
    "submission_set = pd.read_csv('./input/titanic/test.csv', index_col=False)\n",
    "\n",
    "# RESTORE PATHS FOR KAGGLE ENVIRONMENT\n",
    "#dataset = pd.read_csv('../input/titanic/train.csv', index_col=False)\n",
    "#submission_set= pd.read_csv('../input/titanic/test.csv', index_col=False)"
   ]
  },
  {
   "cell_type": "code",
   "execution_count": 76,
   "metadata": {
    "execution": {
     "iopub.execute_input": "2021-03-04T08:37:28.225218Z",
     "iopub.status.busy": "2021-03-04T08:37:28.224480Z",
     "iopub.status.idle": "2021-03-04T08:37:28.261201Z",
     "shell.execute_reply": "2021-03-04T08:37:28.260646Z"
    },
    "papermill": {
     "duration": 0.063911,
     "end_time": "2021-03-04T08:37:28.261343",
     "exception": false,
     "start_time": "2021-03-04T08:37:28.197432",
     "status": "completed"
    },
    "scrolled": true,
    "tags": []
   },
   "outputs": [
    {
     "data": {
      "text/plain": [
       "Index(['PassengerId', 'Survived', 'Pclass', 'Name', 'Sex', 'Age', 'SibSp',\n",
       "       'Parch', 'Ticket', 'Fare', 'Cabin', 'Embarked'],\n",
       "      dtype='object')"
      ]
     },
     "execution_count": 76,
     "metadata": {},
     "output_type": "execute_result"
    }
   ],
   "source": [
    "# dataset will be splitted internally in Ludwig model into training & test sets\n",
    "dataset.columns"
   ]
  },
  {
   "cell_type": "code",
   "execution_count": 77,
   "metadata": {},
   "outputs": [
    {
     "data": {
      "text/plain": [
       "Index(['PassengerId', 'Pclass', 'Name', 'Sex', 'Age', 'SibSp', 'Parch',\n",
       "       'Ticket', 'Fare', 'Cabin', 'Embarked'],\n",
       "      dtype='object')"
      ]
     },
     "execution_count": 77,
     "metadata": {},
     "output_type": "execute_result"
    }
   ],
   "source": [
    "# submission_set does not have 'Survived' column. You have to predict it\n",
    "submission_set.columns"
   ]
  },
  {
   "cell_type": "code",
   "execution_count": 78,
   "metadata": {
    "execution": {
     "iopub.execute_input": "2021-03-04T08:38:13.781898Z",
     "iopub.status.busy": "2021-03-04T08:38:13.780748Z",
     "iopub.status.idle": "2021-03-04T08:38:20.309343Z",
     "shell.execute_reply": "2021-03-04T08:38:20.308614Z"
    },
    "papermill": {
     "duration": 6.56931,
     "end_time": "2021-03-04T08:38:20.309496",
     "exception": false,
     "start_time": "2021-03-04T08:38:13.740186",
     "status": "completed"
    },
    "tags": []
   },
   "outputs": [],
   "source": [
    "from ludwig.api import LudwigModel\n",
    "import yaml\n",
    "import logging"
   ]
  },
  {
   "cell_type": "code",
   "execution_count": 79,
   "metadata": {
    "execution": {
     "iopub.execute_input": "2021-03-04T08:38:20.399659Z",
     "iopub.status.busy": "2021-03-04T08:38:20.398928Z",
     "iopub.status.idle": "2021-03-04T08:38:20.402479Z",
     "shell.execute_reply": "2021-03-04T08:38:20.403158Z"
    },
    "papermill": {
     "duration": 0.056831,
     "end_time": "2021-03-04T08:38:20.403356",
     "exception": false,
     "start_time": "2021-03-04T08:38:20.346525",
     "status": "completed"
    },
    "tags": []
   },
   "outputs": [
    {
     "name": "stdout",
     "output_type": "stream",
     "text": [
      "input_features:\n",
      "- name: Pclass\n",
      "  type: category\n",
      "- name: Sex\n",
      "  type: category\n",
      "- missing_value_strategy: fill_with_mean\n",
      "  name: Age\n",
      "  type: numerical\n",
      "- name: SibSp\n",
      "  type: numerical\n",
      "- name: Parch\n",
      "  type: numerical\n",
      "- missing_value_strategy: fill_with_mean\n",
      "  name: Fare\n",
      "  type: numerical\n",
      "- name: Embarked\n",
      "  type: category\n",
      "output_features:\n",
      "- name: Survived\n",
      "  type: binary\n",
      "\n"
     ]
    }
   ],
   "source": [
    "### OPTION 1: DEFINE THE MODEL IN THE CODE #################################\n",
    "# Model definition\n",
    "titanic_yaml = \"\"\"\n",
    "input_features:\n",
    "    -\n",
    "        name: Pclass\n",
    "        type: category\n",
    "    -\n",
    "        name: Sex\n",
    "        type: category\n",
    "    -\n",
    "        name: Age\n",
    "        type: numerical\n",
    "        missing_value_strategy: fill_with_mean\n",
    "    -\n",
    "        name: SibSp\n",
    "        type: numerical\n",
    "    -\n",
    "        name: Parch\n",
    "        type: numerical\n",
    "    -\n",
    "        name: Fare\n",
    "        type: numerical\n",
    "        missing_value_strategy: fill_with_mean\n",
    "    -\n",
    "        name: Embarked\n",
    "        type: category\n",
    "\n",
    "output_features:\n",
    "    -\n",
    "        name: Survived\n",
    "        type: binary\n",
    "\"\"\"\n",
    "\n",
    "model_definition = yaml.load(titanic_yaml, Loader=yaml.FullLoader)\n",
    "\n",
    "print(yaml.dump(model_definition))"
   ]
  },
  {
   "cell_type": "code",
   "execution_count": 80,
   "metadata": {
    "scrolled": true
   },
   "outputs": [
    {
     "name": "stdout",
     "output_type": "stream",
     "text": [
      "{'input_features': [{'name': 'Pclass', 'type': 'category'}, {'name': 'Sex', 'type': 'category'}, {'name': 'Age', 'type': 'numerical', 'missing_value_strategy': 'fill_with_mean'}, {'name': 'SibSp', 'type': 'numerical'}, {'name': 'Parch', 'type': 'numerical'}, {'name': 'Fare', 'type': 'numerical', 'missing_value_strategy': 'fill_with_mean'}, {'name': 'Embarked', 'type': 'category'}], 'output_features': [{'name': 'Survived', 'type': 'binary'}]}\n",
      "./input/titanic/model_definition.yaml\n",
      "...\n",
      "\n"
     ]
    }
   ],
   "source": [
    "### OPTION 2: DEFINE THE MODEL FROM AN EXTERNAL YAML FILE #################################\n",
    "# You can alternatively load it from the external file\n",
    "with open(r'./input/titanic/model_definition.yaml') as file:\n",
    "    # The FullLoader parameter handles the conversion from YAML\n",
    "    # scalar values to Python the dictionary format\n",
    "    titanic_yaml_toJson = yaml.load(file, Loader=yaml.FullLoader)\n",
    "    print(titanic_yaml_toJson)\n",
    "    \n",
    "model_definition = yaml.load('./input/titanic/model_definition.yaml', Loader=yaml.FullLoader)\n",
    "print(yaml.dump(model_definition))"
   ]
  },
  {
   "cell_type": "code",
   "execution_count": 81,
   "metadata": {
    "execution": {
     "iopub.execute_input": "2021-03-04T08:38:20.489161Z",
     "iopub.status.busy": "2021-03-04T08:38:20.488532Z",
     "iopub.status.idle": "2021-03-04T08:38:33.427613Z",
     "shell.execute_reply": "2021-03-04T08:38:33.428130Z"
    },
    "papermill": {
     "duration": 12.984175,
     "end_time": "2021-03-04T08:38:33.428343",
     "exception": false,
     "start_time": "2021-03-04T08:38:20.444168",
     "status": "completed"
    },
    "tags": []
   },
   "outputs": [
    {
     "name": "stdout",
     "output_type": "stream",
     "text": [
      "training...\n",
      "finished training.\n",
      "\n"
     ]
    }
   ],
   "source": [
    "# Instantiate a model\n",
    "model = LudwigModel(model_definition)\n",
    "#Train the model\n",
    "print(\"training...\")\n",
    "train_stats = model.train(dataset, logging_level=logging.INFO)\n",
    "print(\"finished training.\\n\")"
   ]
  },
  {
   "cell_type": "code",
   "execution_count": 82,
   "metadata": {},
   "outputs": [
    {
     "data": {
      "text/plain": [
       "(     Survived_predictions  Survived_probabilities_False  \\\n",
       " 0                   False                      0.820209   \n",
       " 1                   False                      0.565499   \n",
       " 2                   False                      0.724704   \n",
       " 3                   False                      0.829723   \n",
       " 4                   False                      0.542959   \n",
       " ..                    ...                           ...   \n",
       " 413                 False                      0.854882   \n",
       " 414                  True                      0.125081   \n",
       " 415                 False                      0.820851   \n",
       " 416                 False                      0.854882   \n",
       " 417                 False                      0.805885   \n",
       " \n",
       "      Survived_probabilities_True  Survived_probability  \n",
       " 0                       0.179791              0.820209  \n",
       " 1                       0.434501              0.565499  \n",
       " 2                       0.275296              0.724704  \n",
       " 3                       0.170277              0.829723  \n",
       " 4                       0.457041              0.542959  \n",
       " ..                           ...                   ...  \n",
       " 413                     0.145119              0.854882  \n",
       " 414                     0.874919              0.874919  \n",
       " 415                     0.179149              0.820851  \n",
       " 416                     0.145119              0.854882  \n",
       " 417                     0.194115              0.805885  \n",
       " \n",
       " [418 rows x 4 columns],\n",
       " 'results')"
      ]
     },
     "execution_count": 82,
     "metadata": {},
     "output_type": "execute_result"
    }
   ],
   "source": [
    "predictions = model.predict(submission_set, logging_level=logging.INFO)\n",
    "predictions"
   ]
  },
  {
   "cell_type": "code",
   "execution_count": 83,
   "metadata": {
    "execution": {
     "iopub.execute_input": "2021-03-04T08:38:33.603040Z",
     "iopub.status.busy": "2021-03-04T08:38:33.602352Z",
     "iopub.status.idle": "2021-03-04T08:38:33.831012Z",
     "shell.execute_reply": "2021-03-04T08:38:33.830359Z"
    },
    "papermill": {
     "duration": 0.287974,
     "end_time": "2021-03-04T08:38:33.831164",
     "exception": false,
     "start_time": "2021-03-04T08:38:33.543190",
     "status": "completed"
    },
    "scrolled": true,
    "tags": []
   },
   "outputs": [
    {
     "data": {
      "text/html": [
       "<div>\n",
       "<style scoped>\n",
       "    .dataframe tbody tr th:only-of-type {\n",
       "        vertical-align: middle;\n",
       "    }\n",
       "\n",
       "    .dataframe tbody tr th {\n",
       "        vertical-align: top;\n",
       "    }\n",
       "\n",
       "    .dataframe thead th {\n",
       "        text-align: right;\n",
       "    }\n",
       "</style>\n",
       "<table border=\"1\" class=\"dataframe\">\n",
       "  <thead>\n",
       "    <tr style=\"text-align: right;\">\n",
       "      <th></th>\n",
       "      <th>Survived_predictions</th>\n",
       "    </tr>\n",
       "  </thead>\n",
       "  <tbody>\n",
       "    <tr>\n",
       "      <th>0</th>\n",
       "      <td>False</td>\n",
       "    </tr>\n",
       "    <tr>\n",
       "      <th>1</th>\n",
       "      <td>False</td>\n",
       "    </tr>\n",
       "    <tr>\n",
       "      <th>2</th>\n",
       "      <td>False</td>\n",
       "    </tr>\n",
       "    <tr>\n",
       "      <th>3</th>\n",
       "      <td>False</td>\n",
       "    </tr>\n",
       "    <tr>\n",
       "      <th>4</th>\n",
       "      <td>False</td>\n",
       "    </tr>\n",
       "    <tr>\n",
       "      <th>...</th>\n",
       "      <td>...</td>\n",
       "    </tr>\n",
       "    <tr>\n",
       "      <th>413</th>\n",
       "      <td>False</td>\n",
       "    </tr>\n",
       "    <tr>\n",
       "      <th>414</th>\n",
       "      <td>True</td>\n",
       "    </tr>\n",
       "    <tr>\n",
       "      <th>415</th>\n",
       "      <td>False</td>\n",
       "    </tr>\n",
       "    <tr>\n",
       "      <th>416</th>\n",
       "      <td>False</td>\n",
       "    </tr>\n",
       "    <tr>\n",
       "      <th>417</th>\n",
       "      <td>False</td>\n",
       "    </tr>\n",
       "  </tbody>\n",
       "</table>\n",
       "<p>418 rows × 1 columns</p>\n",
       "</div>"
      ],
      "text/plain": [
       "     Survived_predictions\n",
       "0                   False\n",
       "1                   False\n",
       "2                   False\n",
       "3                   False\n",
       "4                   False\n",
       "..                    ...\n",
       "413                 False\n",
       "414                  True\n",
       "415                 False\n",
       "416                 False\n",
       "417                 False\n",
       "\n",
       "[418 rows x 1 columns]"
      ]
     },
     "execution_count": 83,
     "metadata": {},
     "output_type": "execute_result"
    }
   ],
   "source": [
    "survived_pred = predictions[0][['Survived_predictions']]\n",
    "survived_pred"
   ]
  }
 ],
 "metadata": {
  "kernelspec": {
   "display_name": "Python 3",
   "language": "python",
   "name": "python3"
  },
  "language_info": {
   "codemirror_mode": {
    "name": "ipython",
    "version": 3
   },
   "file_extension": ".py",
   "mimetype": "text/x-python",
   "name": "python",
   "nbconvert_exporter": "python",
   "pygments_lexer": "ipython3",
   "version": "3.7.9"
  },
  "papermill": {
   "default_parameters": {},
   "duration": 73.347859,
   "end_time": "2021-03-04T08:38:35.272258",
   "environment_variables": {},
   "exception": null,
   "input_path": "__notebook__.ipynb",
   "output_path": "__notebook__.ipynb",
   "parameters": {},
   "start_time": "2021-03-04T08:37:21.924399",
   "version": "2.2.2"
  }
 },
 "nbformat": 4,
 "nbformat_minor": 4
}
