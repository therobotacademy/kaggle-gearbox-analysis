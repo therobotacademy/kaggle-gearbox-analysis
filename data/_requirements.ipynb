{
 "cells": [
  {
   "cell_type": "code",
   "execution_count": 4,
   "metadata": {},
   "outputs": [],
   "source": [
    "# New python modules are bundled in this file\n",
    "import numpy as np # linear algebra\n",
    "import pandas as pd # data processing, CSV file I/O (e.g. pd.read_csv)"
   ]
  },
  {
   "cell_type": "code",
   "execution_count": 7,
   "metadata": {},
   "outputs": [
    {
     "name": "stdout",
     "output_type": "stream",
     "text": [
      "geopandas                      0.8.2\r\n",
      "pandas                         1.2.0\r\n",
      "pandas-datareader              0.9.0\r\n",
      "pandas-profiling               2.8.0\r\n",
      "pandas-summary                 0.0.7\r\n",
      "pandasql                       0.7.3\r\n",
      "sklearn-pandas                 2.0.4\r\n"
     ]
    }
   ],
   "source": [
    "# Find previous versions if any\n",
    "!pip list | grep pandas\n",
    "!pip list | grep ludwig"
   ]
  },
  {
   "cell_type": "code",
   "execution_count": 8,
   "metadata": {},
   "outputs": [
    {
     "name": "stdout",
     "output_type": "stream",
     "text": [
      "Collecting ludwig\n",
      "  Downloading ludwig-0.3.3.tar.gz (233 kB)\n",
      "\u001b[K     |████████████████████████████████| 233 kB 2.3 MB/s eta 0:00:01\n",
      "\u001b[?25hRequirement already satisfied: Cython>=0.25 in /opt/conda/lib/python3.7/site-packages (from ludwig) (0.29.21)\n",
      "Requirement already satisfied: h5py<2.11.0,>=2.6 in /opt/conda/lib/python3.7/site-packages (from ludwig) (2.10.0)\n",
      "Requirement already satisfied: numpy>=1.15 in /opt/conda/lib/python3.7/site-packages (from ludwig) (1.19.5)\n",
      "Collecting pandas<1.1.5,>=0.19\n",
      "  Downloading pandas-1.1.4-cp37-cp37m-manylinux1_x86_64.whl (9.5 MB)\n",
      "\u001b[K     |████████████████████████████████| 9.5 MB 9.7 MB/s eta 0:00:01\n",
      "\u001b[?25hRequirement already satisfied: scipy>=0.18 in /opt/conda/lib/python3.7/site-packages (from ludwig) (1.5.4)\n",
      "Requirement already satisfied: tabulate>=0.7 in /opt/conda/lib/python3.7/site-packages (from ludwig) (0.8.8)\n",
      "Requirement already satisfied: scikit-learn in /opt/conda/lib/python3.7/site-packages (from ludwig) (0.24.1)\n",
      "Requirement already satisfied: tqdm in /opt/conda/lib/python3.7/site-packages (from ludwig) (4.55.1)\n",
      "Requirement already satisfied: tensorflow>=2.3.1 in /opt/conda/lib/python3.7/site-packages (from ludwig) (2.4.1)\n",
      "Collecting tfa-nightly==0.12.0.dev20201215223743\n",
      "  Downloading tfa_nightly-0.12.0.dev20201215223743-cp37-cp37m-manylinux2010_x86_64.whl (702 kB)\n",
      "\u001b[K     |████████████████████████████████| 702 kB 10.7 MB/s eta 0:00:01\n",
      "\u001b[?25hRequirement already satisfied: PyYAML>=3.12 in /opt/conda/lib/python3.7/site-packages (from ludwig) (5.3.1)\n",
      "Requirement already satisfied: absl-py in /opt/conda/lib/python3.7/site-packages (from ludwig) (0.10.0)\n",
      "Requirement already satisfied: kaggle in /opt/conda/lib/python3.7/site-packages (from ludwig) (1.5.10)\n",
      "Requirement already satisfied: requests in /opt/conda/lib/python3.7/site-packages (from ludwig) (2.25.1)\n",
      "Collecting xlwt\n",
      "  Downloading xlwt-1.3.0-py2.py3-none-any.whl (99 kB)\n",
      "\u001b[K     |████████████████████████████████| 99 kB 6.0 MB/s  eta 0:00:01\n",
      "\u001b[?25hCollecting xlrd\n",
      "  Downloading xlrd-2.0.1-py2.py3-none-any.whl (96 kB)\n",
      "\u001b[K     |████████████████████████████████| 96 kB 3.7 MB/s  eta 0:00:01\n",
      "\u001b[?25hCollecting openpyxl\n",
      "  Downloading openpyxl-3.0.6-py2.py3-none-any.whl (242 kB)\n",
      "\u001b[K     |████████████████████████████████| 242 kB 11.6 MB/s eta 0:00:01\n",
      "\u001b[?25hRequirement already satisfied: pyarrow in /opt/conda/lib/python3.7/site-packages (from ludwig) (2.0.0)\n",
      "Requirement already satisfied: lxml in /opt/conda/lib/python3.7/site-packages (from ludwig) (4.6.2)\n",
      "Requirement already satisfied: typeguard>=2.7 in /opt/conda/lib/python3.7/site-packages (from tfa-nightly==0.12.0.dev20201215223743->ludwig) (2.11.1)\n",
      "Requirement already satisfied: six in /opt/conda/lib/python3.7/site-packages (from h5py<2.11.0,>=2.6->ludwig) (1.15.0)\n",
      "Requirement already satisfied: pytz>=2017.2 in /opt/conda/lib/python3.7/site-packages (from pandas<1.1.5,>=0.19->ludwig) (2020.5)\n",
      "Requirement already satisfied: python-dateutil>=2.7.3 in /opt/conda/lib/python3.7/site-packages (from pandas<1.1.5,>=0.19->ludwig) (2.8.1)\n",
      "Requirement already satisfied: google-pasta~=0.2 in /opt/conda/lib/python3.7/site-packages (from tensorflow>=2.3.1->ludwig) (0.2.0)\n",
      "Requirement already satisfied: gast==0.3.3 in /opt/conda/lib/python3.7/site-packages (from tensorflow>=2.3.1->ludwig) (0.3.3)\n",
      "Requirement already satisfied: typing-extensions~=3.7.4 in /opt/conda/lib/python3.7/site-packages (from tensorflow>=2.3.1->ludwig) (3.7.4.3)\n",
      "Requirement already satisfied: astunparse~=1.6.3 in /opt/conda/lib/python3.7/site-packages (from tensorflow>=2.3.1->ludwig) (1.6.3)\n",
      "Requirement already satisfied: tensorboard~=2.4 in /opt/conda/lib/python3.7/site-packages (from tensorflow>=2.3.1->ludwig) (2.4.1)\n",
      "Requirement already satisfied: grpcio~=1.32.0 in /opt/conda/lib/python3.7/site-packages (from tensorflow>=2.3.1->ludwig) (1.32.0)\n",
      "Requirement already satisfied: flatbuffers~=1.12.0 in /opt/conda/lib/python3.7/site-packages (from tensorflow>=2.3.1->ludwig) (1.12)\n",
      "Requirement already satisfied: opt-einsum~=3.3.0 in /opt/conda/lib/python3.7/site-packages (from tensorflow>=2.3.1->ludwig) (3.3.0)\n",
      "Requirement already satisfied: wheel~=0.35 in /opt/conda/lib/python3.7/site-packages (from tensorflow>=2.3.1->ludwig) (0.36.2)\n",
      "Requirement already satisfied: protobuf>=3.9.2 in /opt/conda/lib/python3.7/site-packages (from tensorflow>=2.3.1->ludwig) (3.14.0)\n",
      "Requirement already satisfied: keras-preprocessing~=1.1.2 in /opt/conda/lib/python3.7/site-packages (from tensorflow>=2.3.1->ludwig) (1.1.2)\n",
      "Requirement already satisfied: wrapt~=1.12.1 in /opt/conda/lib/python3.7/site-packages (from tensorflow>=2.3.1->ludwig) (1.12.1)\n",
      "Requirement already satisfied: termcolor~=1.1.0 in /opt/conda/lib/python3.7/site-packages (from tensorflow>=2.3.1->ludwig) (1.1.0)\n",
      "Requirement already satisfied: tensorflow-estimator<2.5.0,>=2.4.0 in /opt/conda/lib/python3.7/site-packages (from tensorflow>=2.3.1->ludwig) (2.4.0)\n",
      "Requirement already satisfied: setuptools>=41.0.0 in /opt/conda/lib/python3.7/site-packages (from tensorboard~=2.4->tensorflow>=2.3.1->ludwig) (49.6.0.post20201009)\n",
      "Requirement already satisfied: werkzeug>=0.11.15 in /opt/conda/lib/python3.7/site-packages (from tensorboard~=2.4->tensorflow>=2.3.1->ludwig) (1.0.1)\n",
      "Requirement already satisfied: google-auth-oauthlib<0.5,>=0.4.1 in /opt/conda/lib/python3.7/site-packages (from tensorboard~=2.4->tensorflow>=2.3.1->ludwig) (0.4.2)\n",
      "Requirement already satisfied: tensorboard-plugin-wit>=1.6.0 in /opt/conda/lib/python3.7/site-packages (from tensorboard~=2.4->tensorflow>=2.3.1->ludwig) (1.8.0)\n",
      "Requirement already satisfied: google-auth<2,>=1.6.3 in /opt/conda/lib/python3.7/site-packages (from tensorboard~=2.4->tensorflow>=2.3.1->ludwig) (1.24.0)\n",
      "Requirement already satisfied: markdown>=2.6.8 in /opt/conda/lib/python3.7/site-packages (from tensorboard~=2.4->tensorflow>=2.3.1->ludwig) (3.3.3)\n",
      "Requirement already satisfied: cachetools<5.0,>=2.0.0 in /opt/conda/lib/python3.7/site-packages (from google-auth<2,>=1.6.3->tensorboard~=2.4->tensorflow>=2.3.1->ludwig) (4.1.1)\n",
      "Requirement already satisfied: pyasn1-modules>=0.2.1 in /opt/conda/lib/python3.7/site-packages (from google-auth<2,>=1.6.3->tensorboard~=2.4->tensorflow>=2.3.1->ludwig) (0.2.7)\n",
      "Requirement already satisfied: rsa<5,>=3.1.4 in /opt/conda/lib/python3.7/site-packages (from google-auth<2,>=1.6.3->tensorboard~=2.4->tensorflow>=2.3.1->ludwig) (4.6)\n",
      "Requirement already satisfied: requests-oauthlib>=0.7.0 in /opt/conda/lib/python3.7/site-packages (from google-auth-oauthlib<0.5,>=0.4.1->tensorboard~=2.4->tensorflow>=2.3.1->ludwig) (1.3.0)\n",
      "Requirement already satisfied: importlib-metadata in /opt/conda/lib/python3.7/site-packages (from markdown>=2.6.8->tensorboard~=2.4->tensorflow>=2.3.1->ludwig) (3.3.0)\n",
      "Requirement already satisfied: pyasn1<0.5.0,>=0.4.6 in /opt/conda/lib/python3.7/site-packages (from pyasn1-modules>=0.2.1->google-auth<2,>=1.6.3->tensorboard~=2.4->tensorflow>=2.3.1->ludwig) (0.4.8)\n",
      "Requirement already satisfied: idna<3,>=2.5 in /opt/conda/lib/python3.7/site-packages (from requests->ludwig) (2.10)\n",
      "Requirement already satisfied: chardet<5,>=3.0.2 in /opt/conda/lib/python3.7/site-packages (from requests->ludwig) (3.0.4)\n",
      "Requirement already satisfied: urllib3<1.27,>=1.21.1 in /opt/conda/lib/python3.7/site-packages (from requests->ludwig) (1.26.2)\n",
      "Requirement already satisfied: certifi>=2017.4.17 in /opt/conda/lib/python3.7/site-packages (from requests->ludwig) (2020.12.5)\n",
      "Requirement already satisfied: oauthlib>=3.0.0 in /opt/conda/lib/python3.7/site-packages (from requests-oauthlib>=0.7.0->google-auth-oauthlib<0.5,>=0.4.1->tensorboard~=2.4->tensorflow>=2.3.1->ludwig) (3.0.1)\n",
      "Requirement already satisfied: zipp>=0.5 in /opt/conda/lib/python3.7/site-packages (from importlib-metadata->markdown>=2.6.8->tensorboard~=2.4->tensorflow>=2.3.1->ludwig) (3.4.0)\n",
      "Requirement already satisfied: python-slugify in /opt/conda/lib/python3.7/site-packages (from kaggle->ludwig) (4.0.1)\n",
      "Collecting et-xmlfile\n",
      "  Downloading et_xmlfile-1.0.1.tar.gz (8.4 kB)\n",
      "Collecting jdcal\n",
      "  Downloading jdcal-1.4.1-py2.py3-none-any.whl (9.5 kB)\n",
      "Requirement already satisfied: text-unidecode>=1.3 in /opt/conda/lib/python3.7/site-packages (from python-slugify->kaggle->ludwig) (1.3)\n",
      "Requirement already satisfied: threadpoolctl>=2.0.0 in /opt/conda/lib/python3.7/site-packages (from scikit-learn->ludwig) (2.1.0)\n",
      "Requirement already satisfied: joblib>=0.11 in /opt/conda/lib/python3.7/site-packages (from scikit-learn->ludwig) (1.0.0)\n"
     ]
    },
    {
     "name": "stdout",
     "output_type": "stream",
     "text": [
      "Building wheels for collected packages: ludwig, et-xmlfile\n",
      "  Building wheel for ludwig (setup.py) ... \u001b[?25ldone\n",
      "\u001b[?25h  Created wheel for ludwig: filename=ludwig-0.3.3-py3-none-any.whl size=326527 sha256=a42595620d8a98b53ddafeaf8e4a61db125a38332915b25d41ea1121a49d3710\n",
      "  Stored in directory: /root/.cache/pip/wheels/87/c0/bf/9a3ba4acf11cc56d0043826fafb0c483fd45559a4bf0cb2433\n",
      "  Building wheel for et-xmlfile (setup.py) ... \u001b[?25ldone\n",
      "\u001b[?25h  Created wheel for et-xmlfile: filename=et_xmlfile-1.0.1-py3-none-any.whl size=8913 sha256=f8daa1713c4ba372f78e8401fa2a8dfaceecb380ce1bc67561d37eae60965d5a\n",
      "  Stored in directory: /root/.cache/pip/wheels/e2/bd/55/048b4fd505716c4c298f42ee02dffd9496bb6d212b266c7f31\n",
      "Successfully built ludwig et-xmlfile\n",
      "Installing collected packages: jdcal, et-xmlfile, xlwt, xlrd, tfa-nightly, pandas, openpyxl, ludwig\n",
      "  Attempting uninstall: pandas\n",
      "    Found existing installation: pandas 1.2.0\n",
      "    Uninstalling pandas-1.2.0:\n",
      "      Successfully uninstalled pandas-1.2.0\n",
      "Successfully installed et-xmlfile-1.0.1 jdcal-1.4.1 ludwig-0.3.3 openpyxl-3.0.6 pandas-1.1.4 tfa-nightly-0.12.0.dev20201215223743 xlrd-2.0.1 xlwt-1.3.0\n"
     ]
    }
   ],
   "source": [
    "!pip install ludwig"
   ]
  },
  {
   "cell_type": "code",
   "execution_count": 11,
   "metadata": {},
   "outputs": [
    {
     "name": "stdout",
     "output_type": "stream",
     "text": [
      "geopandas                      0.8.2\r\n",
      "pandas                         1.1.4\r\n",
      "pandas-datareader              0.9.0\r\n",
      "pandas-profiling               2.8.0\r\n",
      "pandas-summary                 0.0.7\r\n",
      "pandasql                       0.7.3\r\n",
      "sklearn-pandas                 2.0.4\r\n"
     ]
    }
   ],
   "source": [
    "# Check if some package version has changed\n",
    "!pip list | grep pandas\n",
    "!pip list | grep Ludwig"
   ]
  },
  {
   "cell_type": "code",
   "execution_count": 10,
   "metadata": {},
   "outputs": [
    {
     "name": "stderr",
     "output_type": "stream",
     "text": [
      "/opt/conda/lib/python3.7/site-packages/typeguard/__init__.py:906: UserWarning: no type annotations present -- not typechecking tensorflow_addons.layers.max_unpooling_2d.MaxUnpooling2D.__init__\n",
      "  warn('no type annotations present -- not typechecking {}'.format(function_name(func)))\n"
     ]
    }
   ],
   "source": [
    "# Test if Ludwig is installed\n",
    "from ludwig.api import LudwigModel"
   ]
  }
 ],
 "metadata": {
  "kernelspec": {
   "display_name": "Python 3",
   "language": "python",
   "name": "python3"
  },
  "language_info": {
   "codemirror_mode": {
    "name": "ipython",
    "version": 3
   },
   "file_extension": ".py",
   "mimetype": "text/x-python",
   "name": "python",
   "nbconvert_exporter": "python",
   "pygments_lexer": "ipython3",
   "version": "3.7.9"
  }
 },
 "nbformat": 4,
 "nbformat_minor": 4
}
